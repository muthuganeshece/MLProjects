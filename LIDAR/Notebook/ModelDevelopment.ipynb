{
 "cells": [
  {
   "cell_type": "code",
   "execution_count": 121,
   "id": "3905c54a",
   "metadata": {},
   "outputs": [],
   "source": [
    "import numpy as np\n",
    "import pandas as pd\n",
    "import matplotlib.pyplot as plt\n",
    "import seaborn as sns\n",
    "import math\n",
    "\n",
    "from sklearn.model_selection import train_test_split\n",
    "from sklearn.decomposition import PCA\n",
    "from sklearn.preprocessing import StandardScaler, MinMaxScaler, RobustScaler\n",
    "from sklearn.linear_model import LinearRegression\n",
    "from sklearn.tree import DecisionTreeRegressor\n",
    "from sklearn.ensemble import RandomForestRegressor, GradientBoostingRegressor\n",
    "from sklearn.metrics import mean_squared_error"
   ]
  },
  {
   "cell_type": "code",
   "execution_count": 2,
   "id": "c0957524",
   "metadata": {},
   "outputs": [
    {
     "data": {
      "text/html": [
       "<div>\n",
       "<style scoped>\n",
       "    .dataframe tbody tr th:only-of-type {\n",
       "        vertical-align: middle;\n",
       "    }\n",
       "\n",
       "    .dataframe tbody tr th {\n",
       "        vertical-align: top;\n",
       "    }\n",
       "\n",
       "    .dataframe thead th {\n",
       "        text-align: right;\n",
       "    }\n",
       "</style>\n",
       "<table border=\"1\" class=\"dataframe\">\n",
       "  <thead>\n",
       "    <tr style=\"text-align: right;\">\n",
       "      <th></th>\n",
       "      <th>Exp</th>\n",
       "      <th>Folder</th>\n",
       "      <th>Mode</th>\n",
       "      <th>Frame</th>\n",
       "      <th>MeanR</th>\n",
       "      <th>VarR</th>\n",
       "      <th>MinR</th>\n",
       "      <th>Q1R</th>\n",
       "      <th>MedR</th>\n",
       "      <th>Q3R</th>\n",
       "      <th>...</th>\n",
       "      <th>VarIR</th>\n",
       "      <th>MinIR</th>\n",
       "      <th>Q1IR</th>\n",
       "      <th>MedIR</th>\n",
       "      <th>Q3IR</th>\n",
       "      <th>MaxIR</th>\n",
       "      <th>SkewIR</th>\n",
       "      <th>KurtIR</th>\n",
       "      <th>PtsIR</th>\n",
       "      <th>Concentration</th>\n",
       "    </tr>\n",
       "  </thead>\n",
       "  <tbody>\n",
       "    <tr>\n",
       "      <th>0</th>\n",
       "      <td>18_09_2024_2gSodium</td>\n",
       "      <td>01_Full</td>\n",
       "      <td>Degen</td>\n",
       "      <td>1270</td>\n",
       "      <td>0.011956</td>\n",
       "      <td>0.129460</td>\n",
       "      <td>0.0</td>\n",
       "      <td>0.0</td>\n",
       "      <td>0.0</td>\n",
       "      <td>0.0</td>\n",
       "      <td>...</td>\n",
       "      <td>1.138393</td>\n",
       "      <td>0.0</td>\n",
       "      <td>1.242808</td>\n",
       "      <td>1.196550</td>\n",
       "      <td>1.211091</td>\n",
       "      <td>1.044270</td>\n",
       "      <td>1.773443</td>\n",
       "      <td>0.983807</td>\n",
       "      <td>1.0</td>\n",
       "      <td>2030.110000</td>\n",
       "    </tr>\n",
       "    <tr>\n",
       "      <th>1</th>\n",
       "      <td>18_09_2024_2gSodium</td>\n",
       "      <td>01_Full</td>\n",
       "      <td>Degen</td>\n",
       "      <td>1271</td>\n",
       "      <td>0.009799</td>\n",
       "      <td>0.095385</td>\n",
       "      <td>0.0</td>\n",
       "      <td>0.0</td>\n",
       "      <td>0.0</td>\n",
       "      <td>0.0</td>\n",
       "      <td>...</td>\n",
       "      <td>1.138973</td>\n",
       "      <td>0.0</td>\n",
       "      <td>1.242930</td>\n",
       "      <td>1.196922</td>\n",
       "      <td>1.211649</td>\n",
       "      <td>1.042752</td>\n",
       "      <td>1.774462</td>\n",
       "      <td>0.980042</td>\n",
       "      <td>1.0</td>\n",
       "      <td>2022.796748</td>\n",
       "    </tr>\n",
       "    <tr>\n",
       "      <th>2</th>\n",
       "      <td>18_09_2024_2gSodium</td>\n",
       "      <td>01_Full</td>\n",
       "      <td>Degen</td>\n",
       "      <td>1272</td>\n",
       "      <td>0.011616</td>\n",
       "      <td>0.113608</td>\n",
       "      <td>0.0</td>\n",
       "      <td>0.0</td>\n",
       "      <td>0.0</td>\n",
       "      <td>0.0</td>\n",
       "      <td>...</td>\n",
       "      <td>1.139380</td>\n",
       "      <td>0.0</td>\n",
       "      <td>1.243419</td>\n",
       "      <td>1.196984</td>\n",
       "      <td>1.211622</td>\n",
       "      <td>1.036582</td>\n",
       "      <td>1.771977</td>\n",
       "      <td>0.982781</td>\n",
       "      <td>1.0</td>\n",
       "      <td>2015.548649</td>\n",
       "    </tr>\n",
       "    <tr>\n",
       "      <th>3</th>\n",
       "      <td>18_09_2024_2gSodium</td>\n",
       "      <td>01_Full</td>\n",
       "      <td>Degen</td>\n",
       "      <td>1273</td>\n",
       "      <td>0.009920</td>\n",
       "      <td>0.092299</td>\n",
       "      <td>0.0</td>\n",
       "      <td>0.0</td>\n",
       "      <td>0.0</td>\n",
       "      <td>0.0</td>\n",
       "      <td>...</td>\n",
       "      <td>1.138379</td>\n",
       "      <td>0.0</td>\n",
       "      <td>1.244232</td>\n",
       "      <td>1.196922</td>\n",
       "      <td>1.210374</td>\n",
       "      <td>1.038002</td>\n",
       "      <td>1.771729</td>\n",
       "      <td>0.985877</td>\n",
       "      <td>1.0</td>\n",
       "      <td>2008.365266</td>\n",
       "    </tr>\n",
       "    <tr>\n",
       "      <th>4</th>\n",
       "      <td>18_09_2024_2gSodium</td>\n",
       "      <td>01_Full</td>\n",
       "      <td>Degen</td>\n",
       "      <td>1274</td>\n",
       "      <td>0.009822</td>\n",
       "      <td>0.094579</td>\n",
       "      <td>0.0</td>\n",
       "      <td>0.0</td>\n",
       "      <td>0.0</td>\n",
       "      <td>0.0</td>\n",
       "      <td>...</td>\n",
       "      <td>1.138545</td>\n",
       "      <td>0.0</td>\n",
       "      <td>1.242483</td>\n",
       "      <td>1.197728</td>\n",
       "      <td>1.210693</td>\n",
       "      <td>1.047502</td>\n",
       "      <td>1.768001</td>\n",
       "      <td>0.984631</td>\n",
       "      <td>1.0</td>\n",
       "      <td>2001.246166</td>\n",
       "    </tr>\n",
       "  </tbody>\n",
       "</table>\n",
       "<p>5 rows × 45 columns</p>\n",
       "</div>"
      ],
      "text/plain": [
       "                   Exp   Folder   Mode  Frame     MeanR      VarR  MinR  Q1R  \\\n",
       "0  18_09_2024_2gSodium  01_Full  Degen   1270  0.011956  0.129460   0.0  0.0   \n",
       "1  18_09_2024_2gSodium  01_Full  Degen   1271  0.009799  0.095385   0.0  0.0   \n",
       "2  18_09_2024_2gSodium  01_Full  Degen   1272  0.011616  0.113608   0.0  0.0   \n",
       "3  18_09_2024_2gSodium  01_Full  Degen   1273  0.009920  0.092299   0.0  0.0   \n",
       "4  18_09_2024_2gSodium  01_Full  Degen   1274  0.009822  0.094579   0.0  0.0   \n",
       "\n",
       "   MedR  Q3R  ...     VarIR  MinIR      Q1IR     MedIR      Q3IR     MaxIR  \\\n",
       "0   0.0  0.0  ...  1.138393    0.0  1.242808  1.196550  1.211091  1.044270   \n",
       "1   0.0  0.0  ...  1.138973    0.0  1.242930  1.196922  1.211649  1.042752   \n",
       "2   0.0  0.0  ...  1.139380    0.0  1.243419  1.196984  1.211622  1.036582   \n",
       "3   0.0  0.0  ...  1.138379    0.0  1.244232  1.196922  1.210374  1.038002   \n",
       "4   0.0  0.0  ...  1.138545    0.0  1.242483  1.197728  1.210693  1.047502   \n",
       "\n",
       "     SkewIR    KurtIR  PtsIR  Concentration  \n",
       "0  1.773443  0.983807    1.0    2030.110000  \n",
       "1  1.774462  0.980042    1.0    2022.796748  \n",
       "2  1.771977  0.982781    1.0    2015.548649  \n",
       "3  1.771729  0.985877    1.0    2008.365266  \n",
       "4  1.768001  0.984631    1.0    2001.246166  \n",
       "\n",
       "[5 rows x 45 columns]"
      ]
     },
     "execution_count": 2,
     "metadata": {},
     "output_type": "execute_result"
    }
   ],
   "source": [
    "data = pd.read_csv(r\"..\\Dataset Preparation\\FinalData.csv\")\n",
    "data.head()"
   ]
  },
  {
   "cell_type": "code",
   "execution_count": 8,
   "id": "b8c2dedc",
   "metadata": {},
   "outputs": [],
   "source": [
    "exp_name = list(data['Exp'].unique())"
   ]
  },
  {
   "cell_type": "markdown",
   "id": "7dc3c4a1",
   "metadata": {},
   "source": [
    "# Feature Engineering"
   ]
  },
  {
   "cell_type": "markdown",
   "id": "241b6b7e",
   "metadata": {},
   "source": [
    "## Feature Removal"
   ]
  },
  {
   "cell_type": "code",
   "execution_count": 3,
   "id": "c7ce988f",
   "metadata": {},
   "outputs": [],
   "source": [
    "insig_features = ['MinR','Q1R','MedR','Q3R','MinSig', 'PtsSig', 'MinRef','Q1Ref','MedRef','Q3Ref', 'MinIR', 'PtsIR']"
   ]
  },
  {
   "cell_type": "code",
   "execution_count": 92,
   "id": "acbf33e0",
   "metadata": {},
   "outputs": [
    {
     "name": "stdout",
     "output_type": "stream",
     "text": [
      "28\n"
     ]
    }
   ],
   "source": [
    "df = data.copy()\n",
    "df.drop(insig_features, axis=1, inplace=True)\n",
    "features = list(df.columns)[4:-1]\n",
    "target = 'Concentration'\n",
    "print(len(features))"
   ]
  },
  {
   "cell_type": "markdown",
   "id": "d0fcec5f",
   "metadata": {},
   "source": [
    "## Remove Outliers"
   ]
  },
  {
   "cell_type": "markdown",
   "id": "38783b67",
   "metadata": {},
   "source": [
    "- Exp0 and Exp4 outliers in IR data need to be removed"
   ]
  },
  {
   "cell_type": "markdown",
   "id": "ccd65773",
   "metadata": {},
   "source": [
    "### Exp 1"
   ]
  },
  {
   "cell_type": "code",
   "execution_count": 93,
   "id": "23841f58",
   "metadata": {},
   "outputs": [
    {
     "data": {
      "text/plain": [
       "['MeanIR', 'VarIR', 'Q1IR', 'MedIR', 'Q3IR', 'MaxIR', 'SkewIR', 'KurtIR']"
      ]
     },
     "execution_count": 93,
     "metadata": {},
     "output_type": "execute_result"
    }
   ],
   "source": [
    "impute_col = [col for col in features if \"IR\" in col] # All IR parameters column\n",
    "impute_col"
   ]
  },
  {
   "cell_type": "code",
   "execution_count": 94,
   "id": "1fbacbab",
   "metadata": {},
   "outputs": [],
   "source": [
    "threshold = 1.14\n",
    "row_index = df[(df['Exp'] == exp_name[0]) & (df['MeanIR'] < threshold)].index\n",
    "l_ind = max(0, row_index[0] - 5)\n",
    "r_ind = min(row_index[0] + 5, len(df))"
   ]
  },
  {
   "cell_type": "code",
   "execution_count": 95,
   "id": "a3f6bead",
   "metadata": {},
   "outputs": [],
   "source": [
    "df.loc[row_index[0], impute_col] = pd.concat([df.loc[l_ind:row_index[0]-1, impute_col], df.loc[row_index[0]+1:r_ind+1, impute_col]], axis=0).mean()"
   ]
  },
  {
   "cell_type": "markdown",
   "id": "ae55d2e9",
   "metadata": {},
   "source": [
    "### Experiment 3"
   ]
  },
  {
   "cell_type": "code",
   "execution_count": 97,
   "id": "e37c8e85",
   "metadata": {},
   "outputs": [
    {
     "name": "stdout",
     "output_type": "stream",
     "text": [
      "Raw length:  919\n",
      "Thresholded length:  916\n"
     ]
    },
    {
     "data": {
      "image/png": "[encoded data removed]",
      "text/plain": [
       "<Figure size 640x480 with 2 Axes>"
      ]
     },
     "metadata": {},
     "output_type": "display_data"
    }
   ],
   "source": [
    "threshold = 1.11\n",
    "plt.subplot(1,2,1)\n",
    "df[(df['Exp'] == exp_name[3])]['MeanIR'].plot()\n",
    "plt.subplot(1,2,2)\n",
    "df[(df['Exp'] == exp_name[3]) & (df['MeanIR'] > threshold)]['MeanIR'].plot()\n",
    "print(\"Raw length: \", len(df[(df['Exp'] == exp_name[3])]['MeanIR']))\n",
    "print(\"Thresholded length: \", len(df[(df['Exp'] == exp_name[3]) & (df['MeanIR'] > threshold)]))"
   ]
  },
  {
   "cell_type": "code",
   "execution_count": 98,
   "id": "9a3235c8",
   "metadata": {},
   "outputs": [],
   "source": [
    "threshold = 1.11\n",
    "exp = 3\n",
    "row_index = df[(df['Exp'] == exp_name[exp]) & (df['MeanIR'] < threshold)].index\n",
    "for ind in row_index:\n",
    "    min_index = min(df[(df['Exp'] == exp_name[exp])].index)\n",
    "    l_ind = max(min_index, ind - 5)\n",
    "    r_ind = min(ind + 5, len(df))\n",
    "    \n",
    "    df.loc[ind, impute_col] = df.loc[ind, impute_col] = pd.concat([df[(df['Exp'] == exp_name[exp])].loc[l_ind:ind-1, impute_col], df[(df['Exp'] == exp_name[exp])].loc[ind+1:r_ind+1, impute_col]], axis=0).mean()"
   ]
  },
  {
   "cell_type": "code",
   "execution_count": 103,
   "id": "3489727e",
   "metadata": {},
   "outputs": [
    {
     "data": {
      "image/png": "[encoded data removed]",
      "text/plain": [
       "<Figure size 1200x600 with 8 Axes>"
      ]
     },
     "metadata": {},
     "output_type": "display_data"
    }
   ],
   "source": [
    "v_dim = 4\n",
    "h_dim = math.ceil(len(impute_col) / v_dim)\n",
    "fig, axes = plt.subplots(nrows=h_dim, ncols=v_dim, figsize=(12, 3 * h_dim))\n",
    "for i, ax in enumerate(axes.flat):\n",
    "    ax.plot(df[impute_col[i]])\n",
    "    ax.set_title(impute_col[i])\n",
    "    ax.grid(True)\n",
    "\n",
    "plt.tight_layout()\n",
    "plt.show()"
   ]
  },
  {
   "cell_type": "code",
   "execution_count": 127,
   "id": "a84bc72d",
   "metadata": {},
   "outputs": [],
   "source": [
    "df.to_csv(\"PreprocessedData.csv\", index=False)"
   ]
  },
  {
   "cell_type": "code",
   "execution_count": 118,
   "id": "6c18f962",
   "metadata": {},
   "outputs": [
    {
     "data": {
      "text/html": [
       "<div>\n",
       "<style scoped>\n",
       "    .dataframe tbody tr th:only-of-type {\n",
       "        vertical-align: middle;\n",
       "    }\n",
       "\n",
       "    .dataframe tbody tr th {\n",
       "        vertical-align: top;\n",
       "    }\n",
       "\n",
       "    .dataframe thead th {\n",
       "        text-align: right;\n",
       "    }\n",
       "</style>\n",
       "<table border=\"1\" class=\"dataframe\">\n",
       "  <thead>\n",
       "    <tr style=\"text-align: right;\">\n",
       "      <th></th>\n",
       "      <th>Frame</th>\n",
       "      <th>MeanR</th>\n",
       "      <th>VarR</th>\n",
       "      <th>MaxR</th>\n",
       "      <th>SkewR</th>\n",
       "      <th>KurtR</th>\n",
       "      <th>PtsR</th>\n",
       "      <th>MeanSig</th>\n",
       "      <th>VarSig</th>\n",
       "      <th>Q1Sig</th>\n",
       "      <th>...</th>\n",
       "      <th>PtsRef</th>\n",
       "      <th>MeanIR</th>\n",
       "      <th>VarIR</th>\n",
       "      <th>Q1IR</th>\n",
       "      <th>MedIR</th>\n",
       "      <th>Q3IR</th>\n",
       "      <th>MaxIR</th>\n",
       "      <th>SkewIR</th>\n",
       "      <th>KurtIR</th>\n",
       "      <th>Concentration</th>\n",
       "    </tr>\n",
       "  </thead>\n",
       "  <tbody>\n",
       "    <tr>\n",
       "      <th>count</th>\n",
       "      <td>11078.000000</td>\n",
       "      <td>11078.000000</td>\n",
       "      <td>11078.000000</td>\n",
       "      <td>11078.000000</td>\n",
       "      <td>11078.000000</td>\n",
       "      <td>11078.000000</td>\n",
       "      <td>11078.000000</td>\n",
       "      <td>11078.000000</td>\n",
       "      <td>11078.000000</td>\n",
       "      <td>11078.000000</td>\n",
       "      <td>...</td>\n",
       "      <td>11078.000000</td>\n",
       "      <td>11078.000000</td>\n",
       "      <td>11078.000000</td>\n",
       "      <td>11078.000000</td>\n",
       "      <td>11078.000000</td>\n",
       "      <td>11078.000000</td>\n",
       "      <td>11078.000000</td>\n",
       "      <td>11078.000000</td>\n",
       "      <td>11078.000000</td>\n",
       "      <td>11078.000000</td>\n",
       "    </tr>\n",
       "    <tr>\n",
       "      <th>mean</th>\n",
       "      <td>3152.610941</td>\n",
       "      <td>1.112619</td>\n",
       "      <td>1.045361</td>\n",
       "      <td>2.996542</td>\n",
       "      <td>1.854989</td>\n",
       "      <td>22.938773</td>\n",
       "      <td>1.286110</td>\n",
       "      <td>0.483326</td>\n",
       "      <td>0.442969</td>\n",
       "      <td>1.179423</td>\n",
       "      <td>...</td>\n",
       "      <td>0.788444</td>\n",
       "      <td>1.212241</td>\n",
       "      <td>1.149444</td>\n",
       "      <td>1.245469</td>\n",
       "      <td>1.213590</td>\n",
       "      <td>1.217974</td>\n",
       "      <td>1.070001</td>\n",
       "      <td>29.085622</td>\n",
       "      <td>0.889898</td>\n",
       "      <td>276.919669</td>\n",
       "    </tr>\n",
       "    <tr>\n",
       "      <th>std</th>\n",
       "      <td>1068.295653</td>\n",
       "      <td>0.533108</td>\n",
       "      <td>0.355570</td>\n",
       "      <td>3.821449</td>\n",
       "      <td>2.764869</td>\n",
       "      <td>122.805567</td>\n",
       "      <td>0.501304</td>\n",
       "      <td>0.173328</td>\n",
       "      <td>0.144853</td>\n",
       "      <td>0.168233</td>\n",
       "      <td>...</td>\n",
       "      <td>0.283135</td>\n",
       "      <td>0.044862</td>\n",
       "      <td>0.032000</td>\n",
       "      <td>0.066494</td>\n",
       "      <td>0.051074</td>\n",
       "      <td>0.046510</td>\n",
       "      <td>0.022355</td>\n",
       "      <td>39.152973</td>\n",
       "      <td>0.065947</td>\n",
       "      <td>368.177613</td>\n",
       "    </tr>\n",
       "    <tr>\n",
       "      <th>min</th>\n",
       "      <td>1250.000000</td>\n",
       "      <td>0.006696</td>\n",
       "      <td>0.081646</td>\n",
       "      <td>0.959736</td>\n",
       "      <td>0.725258</td>\n",
       "      <td>0.408787</td>\n",
       "      <td>0.011319</td>\n",
       "      <td>0.069868</td>\n",
       "      <td>0.048244</td>\n",
       "      <td>0.833333</td>\n",
       "      <td>...</td>\n",
       "      <td>0.007768</td>\n",
       "      <td>1.150860</td>\n",
       "      <td>1.095969</td>\n",
       "      <td>1.173433</td>\n",
       "      <td>1.150024</td>\n",
       "      <td>1.150919</td>\n",
       "      <td>1.024290</td>\n",
       "      <td>1.294032</td>\n",
       "      <td>0.808128</td>\n",
       "      <td>24.876361</td>\n",
       "    </tr>\n",
       "    <tr>\n",
       "      <th>25%</th>\n",
       "      <td>2229.250000</td>\n",
       "      <td>0.806384</td>\n",
       "      <td>0.874119</td>\n",
       "      <td>0.984457</td>\n",
       "      <td>0.972576</td>\n",
       "      <td>1.162910</td>\n",
       "      <td>1.034474</td>\n",
       "      <td>0.392540</td>\n",
       "      <td>0.356971</td>\n",
       "      <td>1.000000</td>\n",
       "      <td>...</td>\n",
       "      <td>0.692616</td>\n",
       "      <td>1.167386</td>\n",
       "      <td>1.118581</td>\n",
       "      <td>1.192516</td>\n",
       "      <td>1.167495</td>\n",
       "      <td>1.171153</td>\n",
       "      <td>1.052693</td>\n",
       "      <td>1.348139</td>\n",
       "      <td>0.836506</td>\n",
       "      <td>86.128316</td>\n",
       "    </tr>\n",
       "    <tr>\n",
       "      <th>50%</th>\n",
       "      <td>3152.500000</td>\n",
       "      <td>1.099225</td>\n",
       "      <td>1.029893</td>\n",
       "      <td>2.124737</td>\n",
       "      <td>1.132881</td>\n",
       "      <td>1.730981</td>\n",
       "      <td>1.402183</td>\n",
       "      <td>0.501531</td>\n",
       "      <td>0.474059</td>\n",
       "      <td>1.252900</td>\n",
       "      <td>...</td>\n",
       "      <td>0.813109</td>\n",
       "      <td>1.205471</td>\n",
       "      <td>1.158622</td>\n",
       "      <td>1.218390</td>\n",
       "      <td>1.207379</td>\n",
       "      <td>1.212100</td>\n",
       "      <td>1.064800</td>\n",
       "      <td>1.501495</td>\n",
       "      <td>0.853887</td>\n",
       "      <td>149.118215</td>\n",
       "    </tr>\n",
       "    <tr>\n",
       "      <th>75%</th>\n",
       "      <td>4075.750000</td>\n",
       "      <td>1.508254</td>\n",
       "      <td>1.258709</td>\n",
       "      <td>3.044867</td>\n",
       "      <td>1.404375</td>\n",
       "      <td>2.831194</td>\n",
       "      <td>1.662064</td>\n",
       "      <td>0.627135</td>\n",
       "      <td>0.560729</td>\n",
       "      <td>1.299304</td>\n",
       "      <td>...</td>\n",
       "      <td>0.980971</td>\n",
       "      <td>1.237502</td>\n",
       "      <td>1.175256</td>\n",
       "      <td>1.320039</td>\n",
       "      <td>1.252773</td>\n",
       "      <td>1.239869</td>\n",
       "      <td>1.085320</td>\n",
       "      <td>81.086442</td>\n",
       "      <td>0.947900</td>\n",
       "      <td>271.722580</td>\n",
       "    </tr>\n",
       "    <tr>\n",
       "      <th>max</th>\n",
       "      <td>5100.000000</td>\n",
       "      <td>2.050000</td>\n",
       "      <td>2.725902</td>\n",
       "      <td>83.266030</td>\n",
       "      <td>45.403459</td>\n",
       "      <td>2877.181787</td>\n",
       "      <td>1.968566</td>\n",
       "      <td>0.731435</td>\n",
       "      <td>0.655178</td>\n",
       "      <td>1.400000</td>\n",
       "      <td>...</td>\n",
       "      <td>1.151753</td>\n",
       "      <td>1.290754</td>\n",
       "      <td>1.198708</td>\n",
       "      <td>1.371713</td>\n",
       "      <td>1.306428</td>\n",
       "      <td>1.297677</td>\n",
       "      <td>1.125834</td>\n",
       "      <td>107.141990</td>\n",
       "      <td>1.131007</td>\n",
       "      <td>2030.110000</td>\n",
       "    </tr>\n",
       "  </tbody>\n",
       "</table>\n",
       "<p>8 rows × 30 columns</p>\n",
       "</div>"
      ],
      "text/plain": [
       "              Frame         MeanR          VarR          MaxR         SkewR  \\\n",
       "count  11078.000000  11078.000000  11078.000000  11078.000000  11078.000000   \n",
       "mean    3152.610941      1.112619      1.045361      2.996542      1.854989   \n",
       "std     1068.295653      0.533108      0.355570      3.821449      2.764869   \n",
       "min     1250.000000      0.006696      0.081646      0.959736      0.725258   \n",
       "25%     2229.250000      0.806384      0.874119      0.984457      0.972576   \n",
       "50%     3152.500000      1.099225      1.029893      2.124737      1.132881   \n",
       "75%     4075.750000      1.508254      1.258709      3.044867      1.404375   \n",
       "max     5100.000000      2.050000      2.725902     83.266030     45.403459   \n",
       "\n",
       "              KurtR          PtsR       MeanSig        VarSig         Q1Sig  \\\n",
       "count  11078.000000  11078.000000  11078.000000  11078.000000  11078.000000   \n",
       "mean      22.938773      1.286110      0.483326      0.442969      1.179423   \n",
       "std      122.805567      0.501304      0.173328      0.144853      0.168233   \n",
       "min        0.408787      0.011319      0.069868      0.048244      0.833333   \n",
       "25%        1.162910      1.034474      0.392540      0.356971      1.000000   \n",
       "50%        1.730981      1.402183      0.501531      0.474059      1.252900   \n",
       "75%        2.831194      1.662064      0.627135      0.560729      1.299304   \n",
       "max     2877.181787      1.968566      0.731435      0.655178      1.400000   \n",
       "\n",
       "       ...        PtsRef        MeanIR         VarIR          Q1IR  \\\n",
       "count  ...  11078.000000  11078.000000  11078.000000  11078.000000   \n",
       "mean   ...      0.788444      1.212241      1.149444      1.245469   \n",
       "std    ...      0.283135      0.044862      0.032000      0.066494   \n",
       "min    ...      0.007768      1.150860      1.095969      1.173433   \n",
       "25%    ...      0.692616      1.167386      1.118581      1.192516   \n",
       "50%    ...      0.813109      1.205471      1.158622      1.218390   \n",
       "75%    ...      0.980971      1.237502      1.175256      1.320039   \n",
       "max    ...      1.151753      1.290754      1.198708      1.371713   \n",
       "\n",
       "              MedIR          Q3IR         MaxIR        SkewIR        KurtIR  \\\n",
       "count  11078.000000  11078.000000  11078.000000  11078.000000  11078.000000   \n",
       "mean       1.213590      1.217974      1.070001     29.085622      0.889898   \n",
       "std        0.051074      0.046510      0.022355     39.152973      0.065947   \n",
       "min        1.150024      1.150919      1.024290      1.294032      0.808128   \n",
       "25%        1.167495      1.171153      1.052693      1.348139      0.836506   \n",
       "50%        1.207379      1.212100      1.064800      1.501495      0.853887   \n",
       "75%        1.252773      1.239869      1.085320     81.086442      0.947900   \n",
       "max        1.306428      1.297677      1.125834    107.141990      1.131007   \n",
       "\n",
       "       Concentration  \n",
       "count   11078.000000  \n",
       "mean      276.919669  \n",
       "std       368.177613  \n",
       "min        24.876361  \n",
       "25%        86.128316  \n",
       "50%       149.118215  \n",
       "75%       271.722580  \n",
       "max      2030.110000  \n",
       "\n",
       "[8 rows x 30 columns]"
      ]
     },
     "execution_count": 118,
     "metadata": {},
     "output_type": "execute_result"
    }
   ],
   "source": [
    "df[df['Exp'] != exp_name[3]].describe()"
   ]
  },
  {
   "cell_type": "markdown",
   "id": "fe8e7406",
   "metadata": {},
   "source": [
    "# Modeling"
   ]
  },
  {
   "cell_type": "code",
   "execution_count": 114,
   "id": "c71b699b",
   "metadata": {},
   "outputs": [],
   "source": [
    "#Take only first 3 experiments\n",
    "X = df[df['Exp'] != exp_name[3]][features]\n",
    "y = df[df['Exp'] != exp_name[3]][target]"
   ]
  },
  {
   "cell_type": "code",
   "execution_count": 115,
   "id": "53a0d2d9",
   "metadata": {},
   "outputs": [],
   "source": [
    "xtrain, xtest, ytrain, ytest = train_test_split(X, y, test_size = 0.3, shuffle=True, random_state=102)"
   ]
  },
  {
   "cell_type": "code",
   "execution_count": 120,
   "id": "6f04ef2d",
   "metadata": {},
   "outputs": [],
   "source": [
    "## Scaling\n",
    "scaler = RobustScaler()\n",
    "xtrain_scaled = scaler.fit_transform(xtrain)\n",
    "xtest_scaled = scaler.transform(xtest)"
   ]
  },
  {
   "cell_type": "markdown",
   "id": "65720bfc",
   "metadata": {},
   "source": [
    "## Linear Regression"
   ]
  },
  {
   "cell_type": "code",
   "execution_count": 122,
   "id": "ce9edbf9",
   "metadata": {},
   "outputs": [
    {
     "name": "stdout",
     "output_type": "stream",
     "text": [
      "MSE:  3992.458766092572\n",
      "Score:  0.9701219007944085\n"
     ]
    }
   ],
   "source": [
    "lir = LinearRegression()\n",
    "lir.fit(xtrain, ytrain)\n",
    "ypred = lir.predict(xtest)\n",
    "print(\"MSE: \", mean_squared_error(ytest, ypred))\n",
    "print(\"Score: \", lir.score(xtest, ytest))"
   ]
  },
  {
   "cell_type": "markdown",
   "id": "4ff28c5f",
   "metadata": {},
   "source": [
    "## Decision Tree"
   ]
  },
  {
   "cell_type": "code",
   "execution_count": 123,
   "id": "f881a81d",
   "metadata": {},
   "outputs": [
    {
     "name": "stdout",
     "output_type": "stream",
     "text": [
      "MSE:  65.47191157982705\n",
      "Score:  0.9995100321921981\n"
     ]
    }
   ],
   "source": [
    "dt = DecisionTreeRegressor(random_state=102)\n",
    "dt.fit(xtrain, ytrain)\n",
    "ypred = dt.predict(xtest)\n",
    "print(\"MSE: \", mean_squared_error(ytest, ypred))\n",
    "print(\"Score: \", dt.score(xtest, ytest))"
   ]
  },
  {
   "cell_type": "markdown",
   "id": "9c3ccaa1",
   "metadata": {},
   "source": [
    "## Random Forest"
   ]
  },
  {
   "cell_type": "code",
   "execution_count": 125,
   "id": "10a0fb10",
   "metadata": {},
   "outputs": [
    {
     "name": "stdout",
     "output_type": "stream",
     "text": [
      "MSE:  23.53812042618621\n",
      "Score:  0.9998238493273419\n"
     ]
    }
   ],
   "source": [
    "rfm = RandomForestRegressor(random_state=102)\n",
    "rfm.fit(xtrain, ytrain)\n",
    "ypred = rfm.predict(xtest)\n",
    "print(\"MSE: \", mean_squared_error(ytest, ypred))\n",
    "print(\"Score: \", rfm.score(xtest, ytest))"
   ]
  },
  {
   "cell_type": "markdown",
   "id": "e76d2a69",
   "metadata": {},
   "source": [
    "## GBDT"
   ]
  },
  {
   "cell_type": "code",
   "execution_count": 126,
   "id": "bbd7d79f",
   "metadata": {},
   "outputs": [
    {
     "name": "stdout",
     "output_type": "stream",
     "text": [
      "MSE:  177.26669306110048\n",
      "Score:  0.9986734009913619\n"
     ]
    }
   ],
   "source": [
    "gbr = GradientBoostingRegressor(random_state=102)\n",
    "gbr.fit(xtrain, ytrain)\n",
    "ypred = gbr.predict(xtest)\n",
    "print(\"MSE: \", mean_squared_error(ytest, ypred))\n",
    "print(\"Score: \", gbr.score(xtest, ytest))"
   ]
  },
  {
   "cell_type": "code",
   "execution_count": null,
   "id": "9fd07638",
   "metadata": {},
   "outputs": [],
   "source": [
    "\n"
   ]
  }
 ],
 "metadata": {
  "kernelspec": {
   "display_name": "Python 3 (ipykernel)",
   "language": "python",
   "name": "python3"
  },
  "language_info": {
   "codemirror_mode": {
    "name": "ipython",
    "version": 3
   },
   "file_extension": ".py",
   "mimetype": "text/x-python",
   "name": "python",
   "nbconvert_exporter": "python",
   "pygments_lexer": "ipython3",
   "version": "3.11.5"
  }
 },
 "nbformat": 4,
 "nbformat_minor": 5
}

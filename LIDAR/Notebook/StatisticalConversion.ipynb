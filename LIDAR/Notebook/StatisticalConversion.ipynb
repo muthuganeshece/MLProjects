{
 "cells": [
  {
   "cell_type": "code",
   "execution_count": 8,
   "id": "f7365f1c",
   "metadata": {},
   "outputs": [],
   "source": [
    "import os\n",
    "import numpy as np\n",
    "import argparse\n",
    "# from ouster import client, pcap\n",
    "from ouster.sdk import client, pcap\n",
    "from contextlib import closing\n",
    "from more_itertools import nth\n",
    "import matplotlib.pyplot as plt\n",
    "from datetime import datetime\n",
    "import pandas as pd\n",
    "import seaborn as sns\n",
    "from scipy.stats import skew, kurtosis\n",
    "from tqdm import tqdmd"
   ]
  },
  {
   "cell_type": "code",
   "execution_count": 14,
   "id": "87f41c3b",
   "metadata": {},
   "outputs": [],
   "source": [
    "folder_path =  r\"D:\\LiDAR\\RawData\"\n",
    "# folder_list = os.listdir(folder_path)\n",
    "# folder_list = ['01_Full']"
   ]
  },
  {
   "cell_type": "code",
   "execution_count": 43,
   "id": "9f036e2b",
   "metadata": {},
   "outputs": [
    {
     "data": {
      "text/plain": [
       "['D:\\\\LiDAR\\\\RawData\\\\18_09_2024_2gSodium',\n",
       " 'D:\\\\LiDAR\\\\RawData\\\\20_09_2024_2gSodium',\n",
       " 'D:\\\\LiDAR\\\\RawData\\\\24_10_2024_2gSodium']"
      ]
     },
     "execution_count": 43,
     "metadata": {},
     "output_type": "execute_result"
    }
   ],
   "source": [
    "folders = [\"18_09_2024_2gSodium\",\"20_09_2024_2gSodium\",\"24_10_2024_2gSodium\"]\n",
    "folder_list = [folder_path + \"\\\\\" + i for i in folders]\n",
    "folder_list"
   ]
  },
  {
   "cell_type": "markdown",
   "id": "2e5dea86",
   "metadata": {},
   "source": [
    "# Extract data from Full format experiments"
   ]
  },
  {
   "cell_type": "code",
   "execution_count": null,
   "id": "fc5fa386",
   "metadata": {},
   "outputs": [
    {
     "name": "stdout",
     "output_type": "stream",
     "text": [
      "File D:\\LiDAR\\RawData\\18_09_2024_2gSodium\\00_BG\\OS-1-32-122147000654-2048x10.json Located...\n",
      "Loading D:\\LiDAR\\RawData\\18_09_2024_2gSodium\\00_BG\\OS-1-32-122147000654-2048x10.pcap File...\n",
      "loading metadata from []\n"
     ]
    },
    {
     "name": "stderr",
     "output_type": "stream",
     "text": [
      "C:\\Users\\ADMIN\\AppData\\Local\\Temp\\ipykernel_3140\\1366820091.py:26: DeprecationWarning: pcap.Pcap(...) is deprecated: Use pcap.PcapMultiPacketReader(...).single_source(0) instead. This API is planned to be removed in Q4 2024.\n",
      "  source = pcap.Pcap(pcap_path, metadata)\n",
      "C:\\Users\\ADMIN\\AppData\\Local\\Temp\\ipykernel_3140\\1366820091.py:27: DeprecationWarning: client.Scans(...) is deprecated: Use client.ScansMulti(...).single_source(0) or the appropriate scan source directly instead. This API is planned to be removed in Q4 2024.\n",
      "  with closing(client.Scans(source)) as scans:\n",
      "417it [00:19, 21.04it/s]\n"
     ]
    },
    {
     "name": "stdout",
     "output_type": "stream",
     "text": [
      "File D:\\LiDAR\\RawData\\18_09_2024_2gSodium\\01_Full\\OS-1-32-122147000654-2048x10.json Located...\n",
      "Loading D:\\LiDAR\\RawData\\18_09_2024_2gSodium\\01_Full\\OS-1-32-122147000654-2048x10.pcap File...\n",
      "loading metadata from []\n"
     ]
    },
    {
     "name": "stderr",
     "output_type": "stream",
     "text": [
      "30140it [24:09,  4.25it/s]"
     ]
    }
   ],
   "source": [
    "folders = folder_list\n",
    "fps = 1\n",
    "df = pd.DataFrame(index = np.arange(30000), columns=['Exp', 'Folder', 'Frame', \n",
    "                                                     'MeanR', 'VarR', 'MinR', 'Q1R','MedR', 'Q3R','MaxR', 'SkewR', 'KurtR','PtsR',\n",
    "                                                     'MeanSig', 'VarSig','MinSig', 'Q1Sig','MedSig', 'Q3Sig','MaxSig','SkewSig', 'KurtSig','PtsSig', \n",
    "                                                     'MeanRef', 'VarRef', 'MinRef','Q1Ref', 'MedRef', 'Q3Ref','MaxRef','SkewRef', 'KurtRef','PtsRef',\n",
    "                                                     'MeanIR', 'VarIR', 'MinIR','Q1IR','MedIR', 'Q3IR','MaxIR', 'SkewIR', 'KurtIR','PtsIR'])\n",
    "row_counter = 0\n",
    "for folder in folders:\n",
    "    rootfolder = folder.split(\"\\\\\")[-1]\n",
    "    for subfolder in os.listdir(folder):\n",
    "        full_path = folder + \"\\\\\" + subfolder\n",
    "        counter = 0\n",
    "        if os.path.isdir(full_path):\n",
    "            file_name = 'OS-1-32-122147000654-2048x10'\n",
    "            intdata = np.empty(shape=(32,2048, 4, 1))\n",
    "            fulldata = np.empty(shape=(32,2048, 4, 1))\n",
    "            frame_counter = 0\n",
    "            if os.path.isfile(full_path + \"\\\\\" + file_name + '.json') :\n",
    "                metadata_path = full_path + \"\\\\\" + file_name + '.json'\n",
    "                pcap_path = full_path + \"\\\\\" + file_name + '.pcap'\n",
    "                print(f\"File {metadata_path} Located...\")\n",
    "                with open(metadata_path, 'r') as f:                    \n",
    "                    metadata = client.SensorInfo(f.read())\n",
    "                    print(f\"Loading {pcap_path} File...\")\n",
    "                    source = pcap.Pcap(pcap_path, metadata)\n",
    "                    with closing(client.Scans(source)) as scans:\n",
    "                        for scan in tqdm(scans):\n",
    "                            rangedata = client.destagger(metadata, scan.field(client.ChanField.RANGE))\n",
    "                            sigdata = client.destagger(metadata, scan.field(client.ChanField.SIGNAL)) \n",
    "                            refdata = client.destagger(metadata, scan.field(client.ChanField.REFLECTIVITY))\n",
    "                            irdata = client.destagger(metadata, scan.field(client.ChanField.NEAR_IR))\n",
    "                            testdata = np.stack([rangedata, sigdata, refdata, irdata], axis=-1)\n",
    "                            if fps == 10:                                \n",
    "                                if frame_counter < 10:                             \n",
    "                                    intdata = np.concatenate([intdata, np.expand_dims(testdata, axis=-1)], axis=3) \n",
    "                                    frame_counter += 1\n",
    "                                else:\n",
    "                                    frame_counter = 0\n",
    "                                    MeanFrame = np.mean(intdata[:,:,:,1:], axis=3)\n",
    "                                    header = [rootfolder, subfolder, counter]\n",
    "                                    statparams = StatisticalCalc(MeanFrame)                                \n",
    "                                    df.iloc[row_counter] = header + statparams\n",
    "                                    intdata = np.empty(shape=(32,2048, 4, 1))\n",
    "                                    row_counter += 1\n",
    "                                    counter += 1\n",
    "                            else:\n",
    "                                MeanFrame = testdata\n",
    "                                header = [rootfolder, subfolder, counter]\n",
    "                                statparams = StatisticalCalc(MeanFrame)                                \n",
    "                                df.loc[row_counter] = header + statparams                                \n",
    "                                row_counter += 1\n",
    "                                counter += 1                            \n",
    "df.dropna().to_csv(\"10FPSData.csv\")                  "
   ]
  },
  {
   "cell_type": "code",
   "execution_count": 47,
   "id": "807a0273",
   "metadata": {},
   "outputs": [
    {
     "data": {
      "text/plain": [
       "30001"
      ]
     },
     "execution_count": 47,
     "metadata": {},
     "output_type": "execute_result"
    }
   ],
   "source": [
    "len(df)"
   ]
  },
  {
   "cell_type": "code",
   "execution_count": 21,
   "id": "17d893df",
   "metadata": {},
   "outputs": [],
   "source": [
    "def StatisticalCalc(frame):\n",
    "    params = []\n",
    "    for ind in range(frame.shape[-1]):\n",
    "        data = frame[:,:,ind].flatten()\n",
    "        meanval = np.mean(data)\n",
    "        varval = np.var(data)\n",
    "        medval = np.median(data)\n",
    "        q1val = np.percentile(data, 25)\n",
    "        q3val = np.percentile(data, 75)\n",
    "        minval = np.min(data)\n",
    "        maxval = np.max(data)\n",
    "        ptsval = np.count_nonzero(data)\n",
    "        skewval = skew(data)\n",
    "        kurtval = kurtosis(data)\n",
    "        params.extend([meanval, varval, minval, q1val, medval, q3val, maxval, skewval, kurtval, ptsval])\n",
    "    return params"
   ]
  },
  {
   "cell_type": "code",
   "execution_count": 83,
   "id": "9ccf64af",
   "metadata": {},
   "outputs": [],
   "source": [
    "df = pd.DataFrame(index = np.arange(30000), columns=['Exp', 'Folder', 'Frame', \n",
    "                                                     'MeanR', 'VarR', 'MinR', 'Q1R','MedR', 'Q3R','MaxR', 'SkewR', 'KurtR','PtsR',\n",
    "                                                     'MeanSig', 'VarSig','MinSig', 'Q1Sig','MedSig', 'Q3Sig','MaxSig','SkewSig', 'KurtSig','PtsSig', \n",
    "                                                     'MeanRef', 'VarRef', 'MinRef','Q1Ref', 'MedRef', 'Q3Ref','MaxRef','SkewRef', 'KurtRef','PtsRef',\n",
    "                                                     'MeanIR', 'VarIR', 'MinIR','Q1IR','MedIR', 'Q3IR','MaxIR', 'SkewIR', 'KurtIR','PtsIR'\n",
    "                                                     'Target', 'Smoke', \n",
    "                                                     'Sig_40Deg_Mean', 'Sig_40Deg_Var', 'Sig_20Deg_Mean', 'Sig_20Deg_Var'])\n",
    "\n",
    "# counter = 0\n",
    "# TargetCnt = 0\n",
    "# idx = 0\n",
    "# rangedata = []\n",
    "# temp_arr = []\n",
    "# sigdata = []\n",
    "# refdata = []\n",
    "# irdata = []\n",
    "# ind_min = 829\n",
    "# ind_max = 1285\n",
    "# #26_02_2024\n",
    "# ind_min = 845\n",
    "# ind_max = 1299 \n",
    "# n = (ind_max - ind_min) // 10\n",
    "# n2 = (1122 - 973) // 3\n",
    "# update = 0\n",
    "# SkipFolders = [] # ['00_BG', '00_BG1', '00_Sodium_Generation']\n",
    "# frame_counter = -1\n",
    "for i in range(len(folder_list)): \n",
    "    print(i)\n",
    "    update = 0\n",
    "    file_name = 'OS-1-32-122147000654-2048x10'\n",
    "#     file_name = 'OS-1-32-122146001278-2048x10' # 26_02_2024\n",
    "    if os.path.isfile(folder_path + '/' + folder_list[i] + '/' + file_name + '.json') :\n",
    "        metadata_path = folder_path + '/' + folder_list[i] + '/' + file_name + '.json'\n",
    "        pcap_path = folder_path + '/' + folder_list[i] + '/' + file_name + '.pcap'\n",
    "        print(\"Executed\")\n",
    "        with open(metadata_path, 'r') as f:\n",
    "            metadata = client.SensorInfo(f.read())\n",
    "        source = pcap.Pcap(pcap_path, metadata)\n",
    "        FrameCnt = 0\n",
    "        TargetCnt = TargetCnt + 1\n",
    "        with closing(client.Scans(source)) as scans:\n",
    "            print(folder_list[i])\n",
    "            for scan in scans:\n",
    "                frame_counter += 1\n",
    "                if frame_counter % 10 == 0:\n",
    "                    #print(frame_counter)\n",
    "                    pass\n",
    "                else:\n",
    "                    continue                \n",
    "                ref_range1 = client.destagger(metadata, scan.field(client.ChanField.RANGE))\n",
    "                ref_range = (ref_range1[ref_range1 != 0]).flatten()\n",
    "                ref_sig1 = client.destagger(metadata, scan.field(client.ChanField.SIGNAL)) \n",
    "#                 if update == 0:\n",
    "#                     x, y = np.where(ref_sig1)\n",
    "#                     ind_max = y.max()\n",
    "#                     ind_min = y.min()\n",
    "#                     n = (ind_max - ind_min) // 10\n",
    "#                     update = 1\n",
    "#                     print('Min: ', ind_min, 'Max: ', ind_max, 'N: ', n)\n",
    "                temp_arr = [calcAvg_cust(ref_sig1[:, k:k+n].flatten()) for k in range(ind_min, ind_max, n)]\n",
    "                #temp_arr = [calcVar_cust(ref_sig1[:, k:k+n].flatten()) for k in range(ind_min, ind_max, n)]\n",
    "                sigdata.append(temp_arr)\n",
    "                #ref_sig = (ref_sig1[ref_sig1 != 0]).flatten()  \n",
    "                ref_sig = ref_sig1.flatten()\n",
    "                ref_sig = ref_sig[ref_sig != 0]\n",
    "                ref_reflect = client.destagger(metadata, scan.field(client.ChanField.REFLECTIVITY))\n",
    "                ref_reflect = (ref_reflect[ref_reflect != 0]).flatten()\n",
    "                ref_ir = client.destagger(metadata, scan.field(client.ChanField.NEAR_IR))\n",
    "                temp_arr = [calcAvg_cust(ref_ir[:, k:k+n].flatten()) for k in range(ind_min, ind_max, n)]\n",
    "                #temp_arr = [calcVar_cust(ref_ir[:, k:k+n].flatten()) for k in range(ind_min, ind_max, n)]\n",
    "                irdata.append(temp_arr)\n",
    "                ref_ir = (ref_ir[ref_ir != 0]).flatten()\n",
    "                ref_range1 = client.destagger(metadata, scan.field(client.ChanField.RANGE))\n",
    "                temp_arr = [calcAvg_cust(ref_range1[:, k:k+n2].flatten()) for k in range(973, 1122, n2)]\n",
    "                #temp_arr = [calcVar_cust(ref_range1[:, k:k+n2].flatten()) for k in range(973, 1122, n2)]\n",
    "                rangedata.append(temp_arr)\n",
    "                ref_range = (ref_range1[ref_range1 != 0]).flatten()\n",
    "                ref_sig = client.destagger(metadata, scan.field(client.ChanField.SIGNAL))\n",
    "                ref_sig = (ref_sig[ref_sig != 0]).flatten()\n",
    "                ref_reflect = client.destagger(metadata, scan.field(client.ChanField.REFLECTIVITY))\n",
    "                temp_arr = [calcAvg_cust(ref_reflect[:, k:k+n].flatten()) for k in range(973, 1122, n)]\n",
    "                #temp_arr = [calcVar_cust(ref_reflect[:, k:k+n].flatten()) for k in range(973, 1122, n)]\n",
    "                refdata.append(temp_arr)\n",
    "                ref_reflect = (ref_reflect[ref_reflect != 0]).flatten()\n",
    "                ref_ir = client.destagger(metadata, scan.field(client.ChanField.NEAR_IR))\n",
    "                ref_ir = (ref_ir[ref_ir != 0]).flatten()\n",
    "                df['Sig_40Deg_Mean'].iloc[counter], df['Sig_40Deg_Var'].iloc[counter] = calcAvgVar_cust(ref_sig1[:, ind_min+(n*3):ind_min+(n*7)].flatten())\n",
    "                df['Sig_20Deg_Mean'].iloc[counter], df['Sig_20Deg_Var'].iloc[counter] = calcAvgVar_cust(ref_sig1[:, ind_min+(n*4):ind_min+(n*6)].flatten())\n",
    "                \n",
    "                df['MeanSigStrength'].iloc[counter], df['Points'].iloc[counter], df['VarSigStrength'].iloc[counter] = calcAvg(ref_sig)\n",
    "                df['MeanRange'].iloc[counter], df['PointsRange'].iloc[counter], df['VarRange'].iloc[counter] = calcAvg(client.destagger(metadata, scan.field(client.ChanField.RANGE)))\n",
    "                df['MeanReflectivity'].iloc[counter], df['PointsReflect'].iloc[counter], df['VarReflectivity'].iloc[counter]  = calcAvg(ref_reflect)\n",
    "                df['MeanIR'].iloc[counter], df['PointsIR'].iloc[counter], df['VarIR'].iloc[counter] = calcAvg(ref_ir)\n",
    "                df['Folder'].iloc[counter] = str(folder_list[i])\n",
    "                df['Frame'].iloc[counter] = FrameCnt\n",
    "                df['Target'].iloc[counter] = i+1 #TargetCnt\n",
    "\n",
    "                df['Q1Sig'].iloc[counter] = np.quantile(ref_sig, 0.25) if len(ref_sig) != 0 else 0\n",
    "                df['MedSig'].iloc[counter] = np.quantile(ref_sig, 0.5) if len(ref_sig) != 0 else 0\n",
    "                df['Q3Sig'].iloc[counter] = np.quantile(ref_sig, 0.75) if len(ref_sig) != 0 else 0\n",
    "                df['MinSig'].iloc[counter] = ref_sig.min() if len(ref_sig) != 0 else 0\n",
    "                df['MaxSig'].iloc[counter] = ref_sig.max() if len(ref_sig) != 0 else 0\n",
    "                    \n",
    "                          \n",
    "                df['Q1Range'].iloc[counter] = np.quantile(ref_range, 0.25) if len(ref_range) != 0 else 0\n",
    "                df['MedRange'].iloc[counter] = np.quantile(ref_range, 0.5) if len(ref_range) != 0 else 0\n",
    "                df['Q3Range'].iloc[counter] = np.quantile(ref_range, 0.75) if len(ref_range) != 0 else 0\n",
    "                df['MinRange'].iloc[counter] = ref_range.min() if len(ref_range) != 0 else 0\n",
    "                df['MaxRange'].iloc[counter] = ref_range.max() if len(ref_range) != 0 else 0\n",
    "                          \n",
    "                df['Q1Reflect'].iloc[counter] = np.quantile(ref_reflect, 0.25) if len(ref_reflect) != 0 else 0\n",
    "                df['MedReflect'].iloc[counter] = np.quantile(ref_reflect, 0.5) if len(ref_reflect) != 0 else 0\n",
    "                df['Q3Reflect'].iloc[counter] = np.quantile(ref_reflect, 0.75) if len(ref_reflect) != 0 else 0\n",
    "                df['MinReflect'].iloc[counter] = ref_reflect.min() if len(ref_reflect) != 0 else 0\n",
    "                df['MaxReflect'].iloc[counter] = ref_reflect.max() if len(ref_reflect) != 0 else 0\n",
    "                \n",
    "                df['Q1IR'].iloc[counter] = np.quantile(ref_ir, 0.25) if len(ref_ir) != 0 else 0\n",
    "                df['MedIR'].iloc[counter] = np.quantile(ref_ir, 0.5) if len(ref_ir) != 0 else 0\n",
    "                df['Q3IR'].iloc[counter] = np.quantile(ref_ir, 0.75) if len(ref_ir) != 0 else 0\n",
    "                df['MinIR'].iloc[counter] = ref_ir.min() if len(ref_ir) != 0 else 0\n",
    "                df['MaxIR'].iloc[counter] = ref_ir.max() if len(ref_ir) != 0 else 0\n",
    "                \n",
    "                \n",
    "                if idx < len(Smoke):\n",
    "                    df['Smoke'].iloc[counter] = Smoke[int(idx)]\n",
    "                else:\n",
    "                    df['Smoke'].iloc[counter] = np.nan\n",
    "                counter = counter + 1\n",
    "                FrameCnt = FrameCnt + 1\n",
    "                #if FrameCnt >= 1000 and folder_list[i] not in SkipFolders:\n",
    "                    #!= '00_Sodium Generation' and folder_list[i] != '23_04_02_Sample1' and \n",
    "                    #folder_list[i] != '24_04_05_VesselOpen':\n",
    "                #    break\n",
    "                if FrameCnt % 100 == 1:\n",
    "                    print(FrameCnt, end=\" \")\n",
    "            if counter > 0: #To remove last frame from each file\n",
    "                counter = counter -1\n",
    "\n",
    "        idx = idx + 1\n",
    "            "
   ]
  },
  {
   "cell_type": "code",
   "execution_count": 9,
   "id": "e21c147e",
   "metadata": {},
   "outputs": [],
   "source": [
    "['2', '3'].extend(a)"
   ]
  },
  {
   "cell_type": "code",
   "execution_count": 12,
   "id": "9f0562b7",
   "metadata": {},
   "outputs": [
    {
     "data": {
      "text/plain": [
       "[1, 2, 3, 4]"
      ]
     },
     "execution_count": 12,
     "metadata": {},
     "output_type": "execute_result"
    }
   ],
   "source": [
    "a = [1,2]\n",
    "b=[3,4]\n",
    "a.extend(b)\n",
    "a\n"
   ]
  },
  {
   "cell_type": "code",
   "execution_count": 71,
   "id": "94f3f116",
   "metadata": {},
   "outputs": [
    {
     "data": {
      "text/plain": [
       "(32, 2048, 4, 2)"
      ]
     },
     "execution_count": 71,
     "metadata": {},
     "output_type": "execute_result"
    }
   ],
   "source": [
    "x = np.concatenate([x, np.expand_dims(testdata, axis=-1)], axis=3)\n",
    "x.shape"
   ]
  },
  {
   "cell_type": "code",
   "execution_count": 61,
   "id": "1f5d81b8",
   "metadata": {},
   "outputs": [
    {
     "data": {
      "text/plain": [
       "(32, 2048, 4, 1)"
      ]
     },
     "execution_count": 61,
     "metadata": {},
     "output_type": "execute_result"
    }
   ],
   "source": [
    "intdata=np.expand_dims(testdata, axis=-1)\n",
    "intdata.shape"
   ]
  },
  {
   "cell_type": "code",
   "execution_count": 69,
   "id": "406bb823",
   "metadata": {},
   "outputs": [
    {
     "data": {
      "text/plain": [
       "(32, 2048, 4)"
      ]
     },
     "execution_count": 69,
     "metadata": {},
     "output_type": "execute_result"
    }
   ],
   "source": [
    "np.mean(x, axis=3).shape"
   ]
  },
  {
   "cell_type": "code",
   "execution_count": 72,
   "id": "788835d0",
   "metadata": {},
   "outputs": [
    {
     "data": {
      "text/plain": [
       "array([[[0., 0., 0., 0.],\n",
       "        [0., 0., 0., 0.],\n",
       "        [0., 0., 0., 0.],\n",
       "        ...,\n",
       "        [0., 0., 0., 0.],\n",
       "        [0., 0., 0., 0.],\n",
       "        [0., 0., 0., 0.]],\n",
       "\n",
       "       [[0., 0., 0., 0.],\n",
       "        [0., 0., 0., 0.],\n",
       "        [0., 0., 0., 0.],\n",
       "        ...,\n",
       "        [0., 0., 0., 0.],\n",
       "        [0., 0., 0., 0.],\n",
       "        [0., 0., 0., 0.]],\n",
       "\n",
       "       [[0., 0., 0., 0.],\n",
       "        [0., 0., 0., 0.],\n",
       "        [0., 0., 0., 0.],\n",
       "        ...,\n",
       "        [0., 0., 0., 0.],\n",
       "        [0., 0., 0., 0.],\n",
       "        [0., 0., 0., 0.]],\n",
       "\n",
       "       ...,\n",
       "\n",
       "       [[0., 0., 0., 0.],\n",
       "        [0., 0., 0., 0.],\n",
       "        [0., 0., 0., 0.],\n",
       "        ...,\n",
       "        [0., 0., 0., 0.],\n",
       "        [0., 0., 0., 0.],\n",
       "        [0., 0., 0., 0.]],\n",
       "\n",
       "       [[0., 0., 0., 0.],\n",
       "        [0., 0., 0., 0.],\n",
       "        [0., 0., 0., 0.],\n",
       "        ...,\n",
       "        [0., 0., 0., 0.],\n",
       "        [0., 0., 0., 0.],\n",
       "        [0., 0., 0., 0.]],\n",
       "\n",
       "       [[0., 0., 0., 0.],\n",
       "        [0., 0., 0., 0.],\n",
       "        [0., 0., 0., 0.],\n",
       "        ...,\n",
       "        [0., 0., 0., 0.],\n",
       "        [0., 0., 0., 0.],\n",
       "        [0., 0., 0., 0.]]])"
      ]
     },
     "execution_count": 72,
     "metadata": {},
     "output_type": "execute_result"
    }
   ],
   "source": [
    "x[:, :, :, 0]"
   ]
  },
  {
   "cell_type": "code",
   "execution_count": null,
   "id": "eff1859b",
   "metadata": {},
   "outputs": [],
   "source": []
  }
 ],
 "metadata": {
  "kernelspec": {
   "display_name": "Python 3 (ipykernel)",
   "language": "python",
   "name": "python3"
  },
  "language_info": {
   "codemirror_mode": {
    "name": "ipython",
    "version": 3
   },
   "file_extension": ".py",
   "mimetype": "text/x-python",
   "name": "python",
   "nbconvert_exporter": "python",
   "pygments_lexer": "ipython3",
   "version": "3.11.5"
  }
 },
 "nbformat": 4,
 "nbformat_minor": 5
}

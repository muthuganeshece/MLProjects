{
 "cells": [
  {
   "cell_type": "code",
   "execution_count": 88,
   "id": "f7365f1c",
   "metadata": {},
   "outputs": [],
   "source": [
    "import os\n",
    "import numpy as np\n",
    "import argparse\n",
    "# from ouster import client, pcap\n",
    "from ouster.sdk import client, pcap\n",
    "from contextlib import closing\n",
    "from more_itertools import nth\n",
    "import matplotlib.pyplot as plt\n",
    "from datetime import datetime\n",
    "import pandas as pd\n",
    "import seaborn as sns\n",
    "from scipy.stats import skew, kurtosis\n",
    "from tqdm import tqdm\n",
    "import math"
   ]
  },
  {
   "cell_type": "code",
   "execution_count": 91,
   "id": "87f41c3b",
   "metadata": {},
   "outputs": [],
   "source": [
    "# Sensor Configuration\n",
    "data_dim = [32, 2048]\n",
    "deg_left = 140\n",
    "deg_right = 220"
   ]
  },
  {
   "cell_type": "code",
   "execution_count": 106,
   "id": "f9ee3284",
   "metadata": {},
   "outputs": [
    {
     "name": "stdout",
     "output_type": "stream",
     "text": [
      "789 1259\n"
     ]
    }
   ],
   "source": [
    "pixel_ratio = data_dim[1]/360\n",
    "left_pixel = math.floor(deg_left * pixel_ratio / 10) * 10\n",
    "right_pixel = math.ceil(deg_right * pixel_ratio / 10) * 10\n",
    "left_pixel -= 1\n",
    "right_pixel -= 1\n",
    "data_dim = right_pixel-left_pixel\n",
    "print(left_pixel, right_pixel)"
   ]
  },
  {
   "cell_type": "code",
   "execution_count": 105,
   "id": "802d5261",
   "metadata": {},
   "outputs": [
    {
     "data": {
      "text/plain": [
       "470"
      ]
     },
     "execution_count": 105,
     "metadata": {},
     "output_type": "execute_result"
    }
   ],
   "source": []
  },
  {
   "cell_type": "code",
   "execution_count": 120,
   "id": "9f036e2b",
   "metadata": {},
   "outputs": [
    {
     "data": {
      "text/plain": [
       "['D:\\\\LiDAR\\\\RawData\\\\18_09_2024_2gSodium',\n",
       " 'D:\\\\LiDAR\\\\RawData\\\\20_09_2024_2gSodium',\n",
       " 'D:\\\\LiDAR\\\\RawData\\\\24_10_2024_2gSodium']"
      ]
     },
     "execution_count": 120,
     "metadata": {},
     "output_type": "execute_result"
    }
   ],
   "source": [
    "folder_path =  r\"D:\\LiDAR\\RawData\"\n",
    "folders = [\"18_09_2024_2gSodium\",\"20_09_2024_2gSodium\",\"24_10_2024_2gSodium\"]\n",
    "degen_start_time = np.array([127, 140, 125]) * 10\n",
    "folder_list = [folder_path + \"\\\\\" + i for i in folders]\n",
    "folder_list"
   ]
  },
  {
   "cell_type": "markdown",
   "id": "2e5dea86",
   "metadata": {},
   "source": [
    "# Extract data from Full format experiments"
   ]
  },
  {
   "cell_type": "code",
   "execution_count": 103,
   "id": "8953a746",
   "metadata": {},
   "outputs": [],
   "source": [
    "def StatisticalCalc(frame):\n",
    "    params = []\n",
    "    for ind in range(frame.shape[-1]):\n",
    "        data = frame[:,:,ind].flatten()        \n",
    "        meanval = np.mean(data)\n",
    "        varval = np.std(data)\n",
    "        medval = np.median(data)\n",
    "        q1val = np.percentile(data, 25)\n",
    "        q3val = np.percentile(data, 75)\n",
    "        minval = np.min(data)\n",
    "        maxval = np.max(data)\n",
    "        ptsval = np.count_nonzero(data)\n",
    "        skewval = skew(data)\n",
    "        kurtval = kurtosis(data)\n",
    "        params.extend([meanval, varval, minval, q1val, medval, q3val, maxval, skewval, kurtval, ptsval])\n",
    "    return params"
   ]
  },
  {
   "cell_type": "code",
   "execution_count": 121,
   "id": "fc5fa386",
   "metadata": {},
   "outputs": [
    {
     "name": "stderr",
     "output_type": "stream",
     "text": [
      "C:\\Users\\ADMIN\\AppData\\Local\\Temp\\ipykernel_2404\\3574986368.py:31: DeprecationWarning: pcap.Pcap(...) is deprecated: Use pcap.PcapMultiPacketReader(...).single_source(0) instead. This API is planned to be removed in Q4 2024.\n",
      "  source = pcap.Pcap(pcap_path, metadata)\n",
      "C:\\Users\\ADMIN\\AppData\\Local\\Temp\\ipykernel_2404\\3574986368.py:32: DeprecationWarning: client.Scans(...) is deprecated: Use client.ScansMulti(...).single_source(0) or the appropriate scan source directly instead. This API is planned to be removed in Q4 2024.\n",
      "  with closing(client.Scans(source)) as scans:\n"
     ]
    },
    {
     "name": "stdout",
     "output_type": "stream",
     "text": [
      "File D:\\LiDAR\\RawData\\18_09_2024_2gSodium\\01_Full\\OS-1-32-122147000654-2048x10.json Located...\n",
      "Loading D:\\LiDAR\\RawData\\18_09_2024_2gSodium\\01_Full\\OS-1-32-122147000654-2048x10.pcap File...\n",
      "loading metadata from []\n"
     ]
    },
    {
     "name": "stderr",
     "output_type": "stream",
     "text": [
      "1270it [00:28, 43.84it/s]\n"
     ]
    }
   ],
   "source": [
    "folders = folder_list\n",
    "fps = 10\n",
    "df = pd.DataFrame(index = np.arange(30000), \n",
    "                  columns=['Exp', 'Folder', 'Mode', 'Frame', \n",
    "                           'MeanR', 'VarR', 'MinR', 'Q1R','MedR', 'Q3R','MaxR', 'SkewR', 'KurtR','PtsR',\n",
    "                           'MeanSig', 'VarSig','MinSig', 'Q1Sig','MedSig', 'Q3Sig','MaxSig','SkewSig', 'KurtSig','PtsSig', \n",
    "                           'MeanRef', 'VarRef', 'MinRef','Q1Ref', 'MedRef', 'Q3Ref','MaxRef','SkewRef', 'KurtRef','PtsRef',\n",
    "                           'MeanIR', 'VarIR', 'MinIR','Q1IR','MedIR', 'Q3IR','MaxIR', 'SkewIR', 'KurtIR','PtsIR'])\n",
    "row_counter = 0\n",
    "folder_count = -1\n",
    "for folder in folders:\n",
    "    folder_count += 1\n",
    "    rootfolder = folder.split(\"\\\\\")[-1]\n",
    "    for subfolder in os.listdir(folder):\n",
    "        full_path = folder + \"\\\\\" + subfolder\n",
    "        if \"Full\" not in subfolder:\n",
    "            continue\n",
    "        counter = 0\n",
    "        if os.path.isdir(full_path):\n",
    "            file_name = 'OS-1-32-122147000654-2048x10'\n",
    "            intdata = np.empty(shape=(32,data_dim, 4, 1))\n",
    "            fulldata = np.empty(shape=(32,data_dim, 4, 1))\n",
    "            frame_counter = 0\n",
    "            if os.path.isfile(full_path + \"\\\\\" + file_name + '.json') :\n",
    "                metadata_path = full_path + \"\\\\\" + file_name + '.json'\n",
    "                pcap_path = full_path + \"\\\\\" + file_name + '.pcap'\n",
    "                print(f\"File {metadata_path} Located...\")\n",
    "                with open(metadata_path, 'r') as f:                    \n",
    "                    metadata = client.SensorInfo(f.read())\n",
    "                    print(f\"Loading {pcap_path} File...\")\n",
    "                    source = pcap.Pcap(pcap_path, metadata)\n",
    "                    with closing(client.Scans(source)) as scans:\n",
    "                        for scan in tqdm(scans):\n",
    "                            rangedata = client.destagger(metadata, scan.field(client.ChanField.RANGE))\n",
    "                            rangedata = rangedata[:, left_pixel:right_pixel]\n",
    "                            sigdata = client.destagger(metadata, scan.field(client.ChanField.SIGNAL)) \n",
    "                            sigdata = sigdata[:, left_pixel:right_pixel]\n",
    "                            refdata = client.destagger(metadata, scan.field(client.ChanField.REFLECTIVITY))\n",
    "                            refdata = refdata[:, left_pixel:right_pixel]\n",
    "                            irdata = client.destagger(metadata, scan.field(client.ChanField.NEAR_IR))\n",
    "                            irdata = irdata[:, left_pixel:right_pixel]\n",
    "                            testdata = np.stack([rangedata, sigdata, refdata, irdata], axis=-1)\n",
    "                            if counter >= degen_start_time[folder_count]:                                 \n",
    "                                if frame_counter < 10:                             \n",
    "                                    intdata = np.concatenate([intdata, np.expand_dims(testdata, axis=-1)], axis=3) \n",
    "                                    frame_counter += 1\n",
    "                                else:\n",
    "                                    frame_counter = 0\n",
    "                                    MeanFrame = np.mean(intdata[:,:,:,1:], axis=3)\n",
    "                                    header = [rootfolder, subfolder, 'Degen', counter]\n",
    "                                    statparams = StatisticalCalc(MeanFrame)                                \n",
    "                                    df.iloc[row_counter] = header + statparams\n",
    "                                    intdata = np.empty(shape=(32,data_dim, 4, 1))\n",
    "                                    intdata = np.concatenate([intdata, np.expand_dims(testdata, axis=-1)], axis=3) \n",
    "                                    frame_counter += 1\n",
    "                                    row_counter += 1\n",
    "                                    counter += 1\n",
    "                            else:\n",
    "                                MeanFrame = testdata\n",
    "                                header = [rootfolder, subfolder, 'Gen', counter]\n",
    "                                statparams = StatisticalCalc(MeanFrame)                                \n",
    "                                df.loc[row_counter] = header + statparams                                \n",
    "                                row_counter += 1\n",
    "                                counter += 1\n",
    "            \n",
    "df.dropna(inplace=True)\n",
    "df.to_csv(\"ConsolidatedData.csv\")                  "
   ]
  },
  {
   "cell_type": "code",
   "execution_count": 108,
   "id": "b7a881cd",
   "metadata": {},
   "outputs": [
    {
     "name": "stderr",
     "output_type": "stream",
     "text": [
      "C:\\Users\\ADMIN\\AppData\\Local\\Temp\\ipykernel_2404\\918713514.py:30: DeprecationWarning: pcap.Pcap(...) is deprecated: Use pcap.PcapMultiPacketReader(...).single_source(0) instead. This API is planned to be removed in Q4 2024.\n",
      "  source = pcap.Pcap(pcap_path, metadata)\n",
      "C:\\Users\\ADMIN\\AppData\\Local\\Temp\\ipykernel_2404\\918713514.py:31: DeprecationWarning: client.Scans(...) is deprecated: Use client.ScansMulti(...).single_source(0) or the appropriate scan source directly instead. This API is planned to be removed in Q4 2024.\n",
      "  with closing(client.Scans(source)) as scans:\n"
     ]
    },
    {
     "name": "stdout",
     "output_type": "stream",
     "text": [
      "File D:\\LiDAR\\RawData\\08_04_2024_2gSodiumForDA\\00\\OS-1-32-122147000654-2048x10.json Located...\n",
      "Loading D:\\LiDAR\\RawData\\08_04_2024_2gSodiumForDA\\00\\OS-1-32-122147000654-2048x10.pcap File...\n",
      "loading metadata from []\n"
     ]
    },
    {
     "name": "stderr",
     "output_type": "stream",
     "text": [
      "1532it [00:30, 50.00it/s]\n"
     ]
    },
    {
     "name": "stdout",
     "output_type": "stream",
     "text": [
      "File D:\\LiDAR\\RawData\\08_04_2024_2gSodiumForDA\\01\\OS-1-32-122147000654-2048x10.json Located...\n",
      "Loading D:\\LiDAR\\RawData\\08_04_2024_2gSodiumForDA\\01\\OS-1-32-122147000654-2048x10.pcap File...\n",
      "loading metadata from []\n"
     ]
    },
    {
     "name": "stderr",
     "output_type": "stream",
     "text": [
      "1007it [00:10, 95.09it/s]\n"
     ]
    },
    {
     "name": "stdout",
     "output_type": "stream",
     "text": [
      "File D:\\LiDAR\\RawData\\08_04_2024_2gSodiumForDA\\02\\OS-1-32-122147000654-2048x10.json Located...\n",
      "Loading D:\\LiDAR\\RawData\\08_04_2024_2gSodiumForDA\\02\\OS-1-32-122147000654-2048x10.pcap File...\n",
      "loading metadata from []\n"
     ]
    },
    {
     "name": "stderr",
     "output_type": "stream",
     "text": [
      "1063it [00:12, 83.77it/s]\n"
     ]
    },
    {
     "name": "stdout",
     "output_type": "stream",
     "text": [
      "File D:\\LiDAR\\RawData\\08_04_2024_2gSodiumForDA\\03\\OS-1-32-122147000654-2048x10.json Located...\n",
      "Loading D:\\LiDAR\\RawData\\08_04_2024_2gSodiumForDA\\03\\OS-1-32-122147000654-2048x10.pcap File...\n",
      "loading metadata from []\n"
     ]
    },
    {
     "name": "stderr",
     "output_type": "stream",
     "text": [
      "1209it [00:15, 75.61it/s]\n"
     ]
    },
    {
     "name": "stdout",
     "output_type": "stream",
     "text": [
      "File D:\\LiDAR\\RawData\\08_04_2024_2gSodiumForDA\\04\\OS-1-32-122147000654-2048x10.json Located...\n",
      "Loading D:\\LiDAR\\RawData\\08_04_2024_2gSodiumForDA\\04\\OS-1-32-122147000654-2048x10.pcap File...\n",
      "loading metadata from []\n"
     ]
    },
    {
     "name": "stderr",
     "output_type": "stream",
     "text": [
      "1164it [00:13, 86.00it/s]\n"
     ]
    },
    {
     "name": "stdout",
     "output_type": "stream",
     "text": [
      "File D:\\LiDAR\\RawData\\08_04_2024_2gSodiumForDA\\05\\OS-1-32-122147000654-2048x10.json Located...\n",
      "Loading D:\\LiDAR\\RawData\\08_04_2024_2gSodiumForDA\\05\\OS-1-32-122147000654-2048x10.pcap File...\n",
      "loading metadata from []\n"
     ]
    },
    {
     "name": "stderr",
     "output_type": "stream",
     "text": [
      "348it [00:04, 84.55it/s]\n"
     ]
    },
    {
     "name": "stdout",
     "output_type": "stream",
     "text": [
      "File D:\\LiDAR\\RawData\\08_04_2024_2gSodiumForDA\\06\\OS-1-32-122147000654-2048x10.json Located...\n",
      "Loading D:\\LiDAR\\RawData\\08_04_2024_2gSodiumForDA\\06\\OS-1-32-122147000654-2048x10.pcap File...\n",
      "loading metadata from []\n"
     ]
    },
    {
     "name": "stderr",
     "output_type": "stream",
     "text": [
      "1028it [00:11, 90.56it/s]\n"
     ]
    },
    {
     "name": "stdout",
     "output_type": "stream",
     "text": [
      "File D:\\LiDAR\\RawData\\08_04_2024_2gSodiumForDA\\07\\OS-1-32-122147000654-2048x10.json Located...\n",
      "Loading D:\\LiDAR\\RawData\\08_04_2024_2gSodiumForDA\\07\\OS-1-32-122147000654-2048x10.pcap File...\n",
      "loading metadata from []\n"
     ]
    },
    {
     "name": "stderr",
     "output_type": "stream",
     "text": [
      "1060it [00:14, 72.58it/s]\n"
     ]
    },
    {
     "name": "stdout",
     "output_type": "stream",
     "text": [
      "File D:\\LiDAR\\RawData\\08_04_2024_2gSodiumForDA\\08\\OS-1-32-122147000654-2048x10.json Located...\n",
      "Loading D:\\LiDAR\\RawData\\08_04_2024_2gSodiumForDA\\08\\OS-1-32-122147000654-2048x10.pcap File...\n",
      "loading metadata from []\n"
     ]
    },
    {
     "name": "stderr",
     "output_type": "stream",
     "text": [
      "1127it [00:14, 75.33it/s]\n"
     ]
    },
    {
     "name": "stdout",
     "output_type": "stream",
     "text": [
      "File D:\\LiDAR\\RawData\\08_04_2024_2gSodiumForDA\\09\\OS-1-32-122147000654-2048x10.json Located...\n",
      "Loading D:\\LiDAR\\RawData\\08_04_2024_2gSodiumForDA\\09\\OS-1-32-122147000654-2048x10.pcap File...\n",
      "loading metadata from []\n"
     ]
    },
    {
     "name": "stderr",
     "output_type": "stream",
     "text": [
      "1067it [00:11, 88.95it/s]\n"
     ]
    },
    {
     "name": "stdout",
     "output_type": "stream",
     "text": [
      "File D:\\LiDAR\\RawData\\08_04_2024_2gSodiumForDA\\10\\OS-1-32-122147000654-2048x10.json Located...\n",
      "Loading D:\\LiDAR\\RawData\\08_04_2024_2gSodiumForDA\\10\\OS-1-32-122147000654-2048x10.pcap File...\n",
      "loading metadata from []\n"
     ]
    },
    {
     "name": "stderr",
     "output_type": "stream",
     "text": [
      "1097it [00:24, 44.95it/s]\n"
     ]
    },
    {
     "name": "stdout",
     "output_type": "stream",
     "text": [
      "File D:\\LiDAR\\RawData\\08_04_2024_2gSodiumForDA\\BG\\OS-1-32-122147000654-2048x10.json Located...\n",
      "Loading D:\\LiDAR\\RawData\\08_04_2024_2gSodiumForDA\\BG\\OS-1-32-122147000654-2048x10.pcap File...\n",
      "loading metadata from []\n"
     ]
    },
    {
     "name": "stderr",
     "output_type": "stream",
     "text": [
      "215it [00:20, 10.60it/s]\n"
     ]
    }
   ],
   "source": [
    "# 08 Apr 2024 Experiment data extraction\n",
    "folders = [r\"D:\\LiDAR\\RawData\\08_04_2024_2gSodiumForDA\"]\n",
    "fps = 10\n",
    "df_exp4 = pd.DataFrame(index = np.arange(30000), \n",
    "                  columns=['Exp', 'Folder', 'Mode', 'Frame', \n",
    "                           'MeanR', 'VarR', 'MinR', 'Q1R','MedR', 'Q3R','MaxR', 'SkewR', 'KurtR','PtsR',\n",
    "                           'MeanSig', 'VarSig','MinSig', 'Q1Sig','MedSig', 'Q3Sig','MaxSig','SkewSig', 'KurtSig','PtsSig', \n",
    "                           'MeanRef', 'VarRef', 'MinRef','Q1Ref', 'MedRef', 'Q3Ref','MaxRef','SkewRef', 'KurtRef','PtsRef',\n",
    "                           'MeanIR', 'VarIR', 'MinIR','Q1IR','MedIR', 'Q3IR','MaxIR', 'SkewIR', 'KurtIR','PtsIR'])\n",
    "row_counter = 0\n",
    "folder_count = -1\n",
    "for folder in folders:\n",
    "    folder_count += 1\n",
    "    rootfolder = folder.split(\"\\\\\")[-1]\n",
    "    for subfolder in os.listdir(folder):\n",
    "        full_path = folder + \"\\\\\" + subfolder\n",
    "        counter = 0\n",
    "        if os.path.isdir(full_path):\n",
    "            file_name = 'OS-1-32-122147000654-2048x10'\n",
    "            intdata = np.empty(shape=(32,data_dim, 4, 1))\n",
    "            fulldata = np.empty(shape=(32,data_dim, 4, 1))\n",
    "            frame_counter = 0\n",
    "            if os.path.isfile(full_path + \"\\\\\" + file_name + '.json') :\n",
    "                metadata_path = full_path + \"\\\\\" + file_name + '.json'\n",
    "                pcap_path = full_path + \"\\\\\" + file_name + '.pcap'\n",
    "                print(f\"File {metadata_path} Located...\")\n",
    "                with open(metadata_path, 'r') as f:                    \n",
    "                    metadata = client.SensorInfo(f.read())\n",
    "                    print(f\"Loading {pcap_path} File...\")\n",
    "                    source = pcap.Pcap(pcap_path, metadata)\n",
    "                    with closing(client.Scans(source)) as scans:\n",
    "                        for scan in tqdm(scans):\n",
    "                            rangedata = client.destagger(metadata, scan.field(client.ChanField.RANGE))\n",
    "                            rangedata = rangedata[:, left_pixel:right_pixel]\n",
    "                            sigdata = client.destagger(metadata, scan.field(client.ChanField.SIGNAL)) \n",
    "                            sigdata = sigdata[:, left_pixel:right_pixel]\n",
    "                            refdata = client.destagger(metadata, scan.field(client.ChanField.REFLECTIVITY))\n",
    "                            refdata = refdata[:, left_pixel:right_pixel]\n",
    "                            irdata = client.destagger(metadata, scan.field(client.ChanField.NEAR_IR))\n",
    "                            irdata = irdata[:, left_pixel:right_pixel]                            \n",
    "                            testdata = np.stack([rangedata, sigdata, refdata, irdata], axis=-1)\n",
    "                            if \"00\" not in subfolder:                                \n",
    "                                if frame_counter < 10:                             \n",
    "                                    intdata = np.concatenate([intdata, np.expand_dims(testdata, axis=-1)], axis=3) \n",
    "                                    frame_counter += 1\n",
    "                                else:\n",
    "                                    frame_counter = 0\n",
    "                                    MeanFrame = np.mean(intdata[:,:,:,1:], axis=3)\n",
    "                                    header = [rootfolder, subfolder, 'Degen', counter]\n",
    "                                    statparams = StatisticalCalc(MeanFrame)                                \n",
    "                                    df_exp4.iloc[row_counter] = header + statparams\n",
    "                                    intdata = np.empty(shape=(32,data_dim, 4, 1))\n",
    "                                    row_counter += 1\n",
    "                                    counter += 1\n",
    "                            else:\n",
    "                                MeanFrame = testdata\n",
    "                                header = [rootfolder, subfolder, 'Gen', counter]\n",
    "                                statparams = StatisticalCalc(MeanFrame)                                \n",
    "                                df_exp4.loc[row_counter] = header + statparams                                \n",
    "                                row_counter += 1\n",
    "                                counter += 1    \n",
    "df_exp4.dropna(inplace=True)\n",
    "df_exp4.to_csv(\"Experiment4Data.csv\")                  "
   ]
  },
  {
   "cell_type": "code",
   "execution_count": 128,
   "id": "bcda00c5",
   "metadata": {},
   "outputs": [
    {
     "name": "stdout",
     "output_type": "stream",
     "text": [
      "Folder\n",
      "00    1531\n",
      "01      90\n",
      "02      95\n",
      "03     108\n",
      "04     104\n",
      "05      30\n",
      "06      92\n",
      "07      95\n",
      "08     101\n",
      "09      96\n",
      "10      98\n",
      "BG      18\n",
      "Name: Frame, dtype: int64 [1531   90   95  108  104   30   92   95  101   96   98   18]\n"
     ]
    }
   ],
   "source": [
    "frame_range = df_exp4.groupby(\"Folder\")['Frame'].max() - df_exp4.groupby(\"Folder\")['Frame'].min()\n",
    "print(frame_range, np.array(frame_range))"
   ]
  },
  {
   "cell_type": "code",
   "execution_count": 119,
   "id": "489e1229",
   "metadata": {},
   "outputs": [
    {
     "data": {
      "text/plain": [
       "<Axes: >"
      ]
     },
     "execution_count": 119,
     "metadata": {},
     "output_type": "execute_result"
    },
    {
     "data": {
      "image/png": "[encoded data removed]",
      "text/plain": [
       "<Figure size 640x480 with 1 Axes>"
      ]
     },
     "metadata": {},
     "output_type": "display_data"
    }
   ],
   "source": [
    "temp = sigdata.flatten()\n",
    "sns.boxplot(temp)"
   ]
  },
  {
   "cell_type": "code",
   "execution_count": null,
   "id": "cbc08206",
   "metadata": {},
   "outputs": [],
   "source": []
  },
  {
   "cell_type": "code",
   "execution_count": 59,
   "id": "9d8ff784",
   "metadata": {},
   "outputs": [],
   "source": [
    "df.dropna(inplace=True)\n",
    "df_gen = df[df['Mode'] == 'Gen']\n",
    "df_degen = df[df['Mode'] != 'Gen']"
   ]
  },
  {
   "cell_type": "code",
   "execution_count": 31,
   "id": "9d3bf259",
   "metadata": {},
   "outputs": [],
   "source": [
    "exp_list = list(df['Exp'].unique())"
   ]
  },
  {
   "cell_type": "code",
   "execution_count": 64,
   "id": "5d06d94c",
   "metadata": {},
   "outputs": [
    {
     "data": {
      "text/html": [
       "<div>\n",
       "<style scoped>\n",
       "    .dataframe tbody tr th:only-of-type {\n",
       "        vertical-align: middle;\n",
       "    }\n",
       "\n",
       "    .dataframe tbody tr th {\n",
       "        vertical-align: top;\n",
       "    }\n",
       "\n",
       "    .dataframe thead th {\n",
       "        text-align: right;\n",
       "    }\n",
       "</style>\n",
       "<table border=\"1\" class=\"dataframe\">\n",
       "  <thead>\n",
       "    <tr style=\"text-align: right;\">\n",
       "      <th></th>\n",
       "      <th>Exp</th>\n",
       "      <th>Folder</th>\n",
       "      <th>Mode</th>\n",
       "      <th>Frame</th>\n",
       "      <th>MeanR</th>\n",
       "      <th>VarR</th>\n",
       "      <th>MinR</th>\n",
       "      <th>Q1R</th>\n",
       "      <th>MedR</th>\n",
       "      <th>Q3R</th>\n",
       "      <th>...</th>\n",
       "      <th>MeanIR</th>\n",
       "      <th>VarIR</th>\n",
       "      <th>MinIR</th>\n",
       "      <th>Q1IR</th>\n",
       "      <th>MedIR</th>\n",
       "      <th>Q3IR</th>\n",
       "      <th>MaxIR</th>\n",
       "      <th>SkewIR</th>\n",
       "      <th>KurtIR</th>\n",
       "      <th>PtsIR</th>\n",
       "    </tr>\n",
       "  </thead>\n",
       "  <tbody>\n",
       "    <tr>\n",
       "      <th>1</th>\n",
       "      <td>18_09_2024_2gSodium</td>\n",
       "      <td>01_Full</td>\n",
       "      <td>Gen</td>\n",
       "      <td>1</td>\n",
       "      <td>18.607635</td>\n",
       "      <td>529.772664</td>\n",
       "      <td>0</td>\n",
       "      <td>0.0</td>\n",
       "      <td>0.0</td>\n",
       "      <td>0.0</td>\n",
       "      <td>...</td>\n",
       "      <td>186.031067</td>\n",
       "      <td>363.806711</td>\n",
       "      <td>0</td>\n",
       "      <td>0.0</td>\n",
       "      <td>0.0</td>\n",
       "      <td>0.0</td>\n",
       "      <td>2079</td>\n",
       "      <td>1.669564</td>\n",
       "      <td>1.452365</td>\n",
       "      <td>14560</td>\n",
       "    </tr>\n",
       "    <tr>\n",
       "      <th>2</th>\n",
       "      <td>18_09_2024_2gSodium</td>\n",
       "      <td>01_Full</td>\n",
       "      <td>Gen</td>\n",
       "      <td>2</td>\n",
       "      <td>16.623215</td>\n",
       "      <td>113.9463</td>\n",
       "      <td>0</td>\n",
       "      <td>0.0</td>\n",
       "      <td>0.0</td>\n",
       "      <td>0.0</td>\n",
       "      <td>...</td>\n",
       "      <td>186.067932</td>\n",
       "      <td>363.843869</td>\n",
       "      <td>0</td>\n",
       "      <td>0.0</td>\n",
       "      <td>0.0</td>\n",
       "      <td>0.0</td>\n",
       "      <td>2048</td>\n",
       "      <td>1.669992</td>\n",
       "      <td>1.459481</td>\n",
       "      <td>14560</td>\n",
       "    </tr>\n",
       "    <tr>\n",
       "      <th>3</th>\n",
       "      <td>18_09_2024_2gSodium</td>\n",
       "      <td>01_Full</td>\n",
       "      <td>Gen</td>\n",
       "      <td>3</td>\n",
       "      <td>16.804977</td>\n",
       "      <td>114.391668</td>\n",
       "      <td>0</td>\n",
       "      <td>0.0</td>\n",
       "      <td>0.0</td>\n",
       "      <td>0.0</td>\n",
       "      <td>...</td>\n",
       "      <td>186.073975</td>\n",
       "      <td>363.870937</td>\n",
       "      <td>0</td>\n",
       "      <td>0.0</td>\n",
       "      <td>0.0</td>\n",
       "      <td>0.0</td>\n",
       "      <td>2063</td>\n",
       "      <td>1.66974</td>\n",
       "      <td>1.455439</td>\n",
       "      <td>14560</td>\n",
       "    </tr>\n",
       "    <tr>\n",
       "      <th>4</th>\n",
       "      <td>18_09_2024_2gSodium</td>\n",
       "      <td>01_Full</td>\n",
       "      <td>Gen</td>\n",
       "      <td>4</td>\n",
       "      <td>16.549622</td>\n",
       "      <td>113.642946</td>\n",
       "      <td>0</td>\n",
       "      <td>0.0</td>\n",
       "      <td>0.0</td>\n",
       "      <td>0.0</td>\n",
       "      <td>...</td>\n",
       "      <td>185.962265</td>\n",
       "      <td>363.666281</td>\n",
       "      <td>0</td>\n",
       "      <td>0.0</td>\n",
       "      <td>0.0</td>\n",
       "      <td>0.0</td>\n",
       "      <td>2038</td>\n",
       "      <td>1.670121</td>\n",
       "      <td>1.457063</td>\n",
       "      <td>14560</td>\n",
       "    </tr>\n",
       "    <tr>\n",
       "      <th>5</th>\n",
       "      <td>18_09_2024_2gSodium</td>\n",
       "      <td>01_Full</td>\n",
       "      <td>Gen</td>\n",
       "      <td>5</td>\n",
       "      <td>16.701035</td>\n",
       "      <td>114.150767</td>\n",
       "      <td>0</td>\n",
       "      <td>0.0</td>\n",
       "      <td>0.0</td>\n",
       "      <td>0.0</td>\n",
       "      <td>...</td>\n",
       "      <td>186.091309</td>\n",
       "      <td>363.959276</td>\n",
       "      <td>0</td>\n",
       "      <td>0.0</td>\n",
       "      <td>0.0</td>\n",
       "      <td>0.0</td>\n",
       "      <td>2049</td>\n",
       "      <td>1.671103</td>\n",
       "      <td>1.463362</td>\n",
       "      <td>14560</td>\n",
       "    </tr>\n",
       "  </tbody>\n",
       "</table>\n",
       "<p>5 rows × 44 columns</p>\n",
       "</div>"
      ],
      "text/plain": [
       "                   Exp   Folder Mode Frame      MeanR        VarR MinR  Q1R  \\\n",
       "1  18_09_2024_2gSodium  01_Full  Gen     1  18.607635  529.772664    0  0.0   \n",
       "2  18_09_2024_2gSodium  01_Full  Gen     2  16.623215    113.9463    0  0.0   \n",
       "3  18_09_2024_2gSodium  01_Full  Gen     3  16.804977  114.391668    0  0.0   \n",
       "4  18_09_2024_2gSodium  01_Full  Gen     4  16.549622  113.642946    0  0.0   \n",
       "5  18_09_2024_2gSodium  01_Full  Gen     5  16.701035  114.150767    0  0.0   \n",
       "\n",
       "  MedR  Q3R  ...      MeanIR       VarIR MinIR Q1IR MedIR Q3IR MaxIR  \\\n",
       "1  0.0  0.0  ...  186.031067  363.806711     0  0.0   0.0  0.0  2079   \n",
       "2  0.0  0.0  ...  186.067932  363.843869     0  0.0   0.0  0.0  2048   \n",
       "3  0.0  0.0  ...  186.073975  363.870937     0  0.0   0.0  0.0  2063   \n",
       "4  0.0  0.0  ...  185.962265  363.666281     0  0.0   0.0  0.0  2038   \n",
       "5  0.0  0.0  ...  186.091309  363.959276     0  0.0   0.0  0.0  2049   \n",
       "\n",
       "     SkewIR    KurtIR  PtsIR  \n",
       "1  1.669564  1.452365  14560  \n",
       "2  1.669992  1.459481  14560  \n",
       "3   1.66974  1.455439  14560  \n",
       "4  1.670121  1.457063  14560  \n",
       "5  1.671103  1.463362  14560  \n",
       "\n",
       "[5 rows x 44 columns]"
      ]
     },
     "execution_count": 64,
     "metadata": {},
     "output_type": "execute_result"
    }
   ],
   "source": [
    "df_gen.head()"
   ]
  },
  {
   "cell_type": "code",
   "execution_count": 60,
   "id": "491549de",
   "metadata": {},
   "outputs": [
    {
     "data": {
      "text/plain": [
       "(Exp\n",
       " 18_09_2024_2gSodium    4937\n",
       " 20_09_2024_2gSodium    5100\n",
       " 24_10_2024_2gSodium    4958\n",
       " Name: Frame, dtype: int64,\n",
       " Exp\n",
       " 18_09_2024_2gSodium    1270\n",
       " 20_09_2024_2gSodium    1400\n",
       " 24_10_2024_2gSodium    1250\n",
       " Name: Frame, dtype: int64)"
      ]
     },
     "execution_count": 60,
     "metadata": {},
     "output_type": "execute_result"
    }
   ],
   "source": [
    "df_degen.groupby(\"Exp\")['Frame'].max(), df_degen.groupby(\"Exp\")['Frame'].min()"
   ]
  },
  {
   "cell_type": "code",
   "execution_count": 40,
   "id": "b820f1ce",
   "metadata": {},
   "outputs": [],
   "source": [
    "# Load Smoke Concentration data\n",
    "exp1_conc = pd.read_csv(\"ConcInterpExp1.csv\")\n",
    "exp2_conc = pd.read_csv(\"ConcInterpExp2.csv\")\n",
    "exp3_conc = pd.read_csv(\"ConcInterpExp3.csv\")"
   ]
  },
  {
   "cell_type": "code",
   "execution_count": 47,
   "id": "729d040e",
   "metadata": {},
   "outputs": [],
   "source": [
    "def findrange(dat):\n",
    "    minval = dat.min()\n",
    "    maxval = dat.max()\n",
    "    print(\"Min: \", minval, \"Max: \", maxval, \"Range: \", maxval-minval)"
   ]
  },
  {
   "cell_type": "code",
   "execution_count": 65,
   "id": "4ee702af",
   "metadata": {},
   "outputs": [
    {
     "name": "stdout",
     "output_type": "stream",
     "text": [
      "Min:  127 Max:  3732 Range:  3605\n",
      "Min:  140 Max:  3750 Range:  3610\n",
      "Min:  125 Max:  3762 Range:  3637\n"
     ]
    }
   ],
   "source": [
    "findrange(exp1_conc['Time'])\n",
    "findrange(exp2_conc['Time'])\n",
    "findrange(exp3_conc['Time'])"
   ]
  },
  {
   "cell_type": "code",
   "execution_count": 62,
   "id": "fbb24a83",
   "metadata": {},
   "outputs": [
    {
     "data": {
      "text/plain": [
       "3668"
      ]
     },
     "execution_count": 62,
     "metadata": {},
     "output_type": "execute_result"
    }
   ],
   "source": [
    "len(df_degen[df_degen['Exp'] == '18_09_2024_2gSodium'])"
   ]
  },
  {
   "cell_type": "code",
   "execution_count": 63,
   "id": "5dd40e6d",
   "metadata": {},
   "outputs": [
    {
     "data": {
      "text/plain": [
       "<Axes: ylabel='MeanSig'>"
      ]
     },
     "execution_count": 63,
     "metadata": {},
     "output_type": "execute_result"
    },
    {
     "data": {
      "image/png": "[encoded data removed]",
      "text/plain": [
       "<Figure size 640x480 with 1 Axes>"
      ]
     },
     "metadata": {},
     "output_type": "display_data"
    }
   ],
   "source": [
    "sns.barplot(data=df_degen[df_degen['Exp'] == '18_09_2024_2gSodium'], y='MeanSig')"
   ]
  },
  {
   "cell_type": "code",
   "execution_count": null,
   "id": "f7e212ef",
   "metadata": {},
   "outputs": [],
   "source": []
  }
 ],
 "metadata": {
  "kernelspec": {
   "display_name": "Python 3 (ipykernel)",
   "language": "python",
   "name": "python3"
  },
  "language_info": {
   "codemirror_mode": {
    "name": "ipython",
    "version": 3
   },
   "file_extension": ".py",
   "mimetype": "text/x-python",
   "name": "python",
   "nbconvert_exporter": "python",
   "pygments_lexer": "ipython3",
   "version": "3.11.5"
  }
 },
 "nbformat": 4,
 "nbformat_minor": 5
}

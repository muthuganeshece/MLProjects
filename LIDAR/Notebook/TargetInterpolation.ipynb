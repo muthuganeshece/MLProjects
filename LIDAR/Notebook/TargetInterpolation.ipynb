{
 "cells": [
  {
   "cell_type": "code",
   "execution_count": 1,
   "id": "3e5f9ed1",
   "metadata": {},
   "outputs": [],
   "source": [
    "import numpy as np\n",
    "import pandas as pd"
   ]
  },
  {
   "cell_type": "code",
   "execution_count": 2,
   "id": "00b8c2df",
   "metadata": {},
   "outputs": [],
   "source": [
    "#Exp1: 18/09, Exp2: 20/09, Exp3: 20/10\n",
    "Exp1_time = [127, 247, 367, 487, 607, 732, 852, 1032, 1922, 3732]\n",
    "Exp2_time = [140, 260, 380, 500, 620, 740, 870, 1050, 1950, 3750]\n",
    "Exp3_time = [125, 250, 370, 494, 621, 741, 868, 1054, 1962, 3762]\n",
    "\n",
    "Exp1_data = [2030.11, 1495.71, 1155.13, 628.36, 531.54, 289.69, 234.99, 176.48, 144.65, 162.19]\n",
    "Exp2_data = [1704.39, 1476.42, 1292.76, 1067.22, 767.64, 209.29, 174.57, 221.29, 137.35, 107.61]\n",
    "Exp3_data = [1803.12, 1254.7, 940.73, 460.25, 226.65, 144.26, 107.25, 66.35, 50.73, 66.63]\n",
    "\n"
   ]
  },
  {
   "cell_type": "code",
   "execution_count": 4,
   "id": "7cef79b6",
   "metadata": {},
   "outputs": [
    {
     "data": {
      "text/html": [
       "<div>\n",
       "<style scoped>\n",
       "    .dataframe tbody tr th:only-of-type {\n",
       "        vertical-align: middle;\n",
       "    }\n",
       "\n",
       "    .dataframe tbody tr th {\n",
       "        vertical-align: top;\n",
       "    }\n",
       "\n",
       "    .dataframe thead th {\n",
       "        text-align: right;\n",
       "    }\n",
       "</style>\n",
       "<table border=\"1\" class=\"dataframe\">\n",
       "  <thead>\n",
       "    <tr style=\"text-align: right;\">\n",
       "      <th></th>\n",
       "      <th>Sample</th>\n",
       "      <th>Exp1_t</th>\n",
       "      <th>Exp1_d</th>\n",
       "      <th>Exp2_t</th>\n",
       "      <th>Exp2_d</th>\n",
       "      <th>Exp3_t</th>\n",
       "      <th>Exp3_d</th>\n",
       "    </tr>\n",
       "  </thead>\n",
       "  <tbody>\n",
       "    <tr>\n",
       "      <th>0</th>\n",
       "      <td>127</td>\n",
       "      <td>247</td>\n",
       "      <td>367</td>\n",
       "      <td>487</td>\n",
       "      <td>607</td>\n",
       "      <td>732</td>\n",
       "      <td>852</td>\n",
       "    </tr>\n",
       "  </tbody>\n",
       "</table>\n",
       "</div>"
      ],
      "text/plain": [
       "   Sample  Exp1_t  Exp1_d  Exp2_t  Exp2_d  Exp3_t  Exp3_d\n",
       "0     127     247     367     487     607     732     852"
      ]
     },
     "execution_count": 4,
     "metadata": {},
     "output_type": "execute_result"
    }
   ],
   "source": [
    "df_exp = pd.DataFrame(data = [[127, 247, 367, 487, 607, 732, 852]], columns = ['Sample', 'Exp1_t', 'Exp1_d', 'Exp2_t', 'Exp2_d', 'Exp3_t', 'Exp3_d'])\n",
    "df_exp.head()"
   ]
  },
  {
   "cell_type": "code",
   "execution_count": null,
   "id": "9cbe009b",
   "metadata": {},
   "outputs": [],
   "source": []
  }
 ],
 "metadata": {
  "kernelspec": {
   "display_name": "Python 3 (ipykernel)",
   "language": "python",
   "name": "python3"
  },
  "language_info": {
   "codemirror_mode": {
    "name": "ipython",
    "version": 3
   },
   "file_extension": ".py",
   "mimetype": "text/x-python",
   "name": "python",
   "nbconvert_exporter": "python",
   "pygments_lexer": "ipython3",
   "version": "3.11.5"
  }
 },
 "nbformat": 4,
 "nbformat_minor": 5
}
